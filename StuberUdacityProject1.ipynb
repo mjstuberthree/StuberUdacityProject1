{
 "cells": [
  {
   "cell_type": "markdown",
   "id": "2b6c9d3a-4311-40ef-92c0-0c6bc08efcb2",
   "metadata": {},
   "source": [
    "# <center><font color = \"green\"><b>Udacity Project 1: Landmines, not Cats &#128049; </b></center>"
   ]
  },
  {
   "cell_type": "markdown",
   "id": "319146a8-d96d-4c35-ba98-0505f9aff3bc",
   "metadata": {},
   "source": [
    "<center><img src=\"CRISPDMSmall.png\"/></center>"
   ]
  },
  {
   "cell_type": "markdown",
   "id": "ecb6b447-6881-410d-b417-8c075ba29dcb",
   "metadata": {},
   "source": [
    "### <center><u><font color = \"green\"><b> CRISP DM </b></u></center>"
   ]
  },
  {
   "cell_type": "markdown",
   "id": "26856eaa-43e5-4661-a7b5-357e253b1a8d",
   "metadata": {},
   "source": [
    "<b>The CRISP DM steps will be split up as they are covered in this project:</b>\n",
    " - <b>Business Understanding</b> = Project Goals/Stakeholder Needs\n",
    " - <b>Data Understanding</b> = Initial Exploratory Analysis\n",
    " - <b>Data Preparation</b> = Merge, Clean, Transform Data + Address Issues\n",
    " - <b>Modeling</b> = Select Algorithms + Train Models\n",
    " - <b>Evaluation</b> = Choose Metrics + Validate Model With Unseen Data\n",
    " - <b>Deployment</b> = Implement Model in Real-World Applications + Monitor/Update Process\n",
    "    - <font color = \"red\"><b>Note:</b> <font color = \"black\">Deployment is a future consideration full/loop of CRISP DM, this project wont breach into this"
   ]
  },
  {
   "cell_type": "markdown",
   "id": "230361a2-333d-4de4-b458-78ffe9a0e29f",
   "metadata": {},
   "source": [
    "##### "
   ]
  },
  {
   "cell_type": "markdown",
   "id": "5514214f-e8f4-45eb-a040-25c7587ebaff",
   "metadata": {},
   "source": [
    "---"
   ]
  },
  {
   "cell_type": "markdown",
   "id": "3740f183-5e30-480e-ad67-9cff11fafd92",
   "metadata": {},
   "source": [
    "##### "
   ]
  },
  {
   "cell_type": "markdown",
   "id": "d86da45f-29cd-40e2-8afb-43216d657f4b",
   "metadata": {},
   "source": [
    "### <center><u><font color = \"green\"><b> Business Understanding:</b> <font color = \"black\">Project Goals/Stakeholder Needs </u></center>"
   ]
  },
  {
   "cell_type": "markdown",
   "id": "0ccd0ef4-445f-4acd-a89b-bb7cdcb3969d",
   "metadata": {},
   "source": [
    "<b>Project Goals:</b>\n",
    " - Find an interesting dataset within the Udacity available options and follow the CRISP DM process to fully anlayze it\n",
    " - Create a blogpost discussing the results of the analysis\n",
    " - Upon choosing the data, there are a few \"potential\" question paths I find interesting to explore below/within the analysis:\n",
    "    - Could a Country's representatives consider casualties to increase the more Anti-Vehicle mines are cleared/destroyed?\n",
    "    - Could a Country's representatives consider casualties to increase the more Non-Anti Vehicle mines are cleared/destroyed?\n",
    "    - Could a Country's representatives consider that large stockpiles/instances of mines cleared muddy up their datas representation to predict future efforts?\n",
    "    - Could a Country's representatives consider casualties to increase the smaller the mine area cleared is, tighter working conditions?\n",
    "    - Data stops at 2012, likely due to an end in program, however it would be interesting to forecast future years\n",
    "    - Or forecast when a given country would reach \"zero\" and be fully cleared"
   ]
  },
  {
   "cell_type": "markdown",
   "id": "023c2d7d-d6e8-435b-8c81-978731b0d190",
   "metadata": {},
   "source": [
    "#### <b> Data Source Info </b>\n",
    "<b>Raw Source - World Bank Dataset:</b>\n",
    " - https://databank.worldbank.org/source/landmine-contamination-casualties-and-clearance-(lc3d)#\n",
    " - Database: landmine-contamination-casualties-and-clearance-(lc3d)\n",
    " - Countries: All\n",
    " - Datasource: Landmine and Cluster Munitions Monitor\n",
    " - Series:\n",
    "     - Anti-Vehicle Mines Destroyed\n",
    "     - Casualties, Total\n",
    "     - Mine Area Cleared (sq.km)\n",
    "     - Non-Anti Vehicle Mines Destroyed\n",
    " - Time (years): 2012, 2011, 2010, 2009\n",
    "     - 2012 was the most recent year, this will be mentioned later on\n",
    "     - Also, as I loaded earlier years, they continued to be nulled all the way down for the most part\n",
    "     - I deemed the earliest years not super relevant for the analysis, and stuck with 4"
   ]
  },
  {
   "cell_type": "markdown",
   "id": "06bf7731-c693-4615-9185-8803cff5239a",
   "metadata": {},
   "source": [
    "##### <b>Note:</b>\n",
    " - I briefly checked out the data in the CSV before proceeding with the analysis\n",
    " - The contents seemed interesting enough as a dataset, but not all the data may be useful in this project\n",
    " - There appeared to be trailing footer rows that need to be dropped later on"
   ]
  },
  {
   "cell_type": "markdown",
   "id": "6f4f279f-d62a-4d47-b44e-e6bc3b49c18a",
   "metadata": {},
   "source": [
    "##### "
   ]
  },
  {
   "cell_type": "markdown",
   "id": "d96337ad-093c-4c8c-a950-97904fa23348",
   "metadata": {},
   "source": [
    "---"
   ]
  },
  {
   "cell_type": "markdown",
   "id": "eaf6939c-abd5-4c01-b5b1-49a6fac6824e",
   "metadata": {},
   "source": [
    "##### "
   ]
  },
  {
   "cell_type": "markdown",
   "id": "e5d9884d-5eaf-440b-a2e7-252d8a67b84c",
   "metadata": {},
   "source": [
    "### <center><u><font color = \"green\"><b> Data Understanding:</b> <font color = \"black\">Initial Exploratory Analysis</u><center>"
   ]
  },
  {
   "cell_type": "markdown",
   "id": "8199d0ec-92bc-4bcf-ad31-99f0ac1064d6",
   "metadata": {},
   "source": [
    "#### <b>Libraries/Packages </b>"
   ]
  },
  {
   "cell_type": "code",
   "execution_count": 294,
   "id": "93fb9f41-ff2d-4c16-bbd1-e4444df09c3c",
   "metadata": {},
   "outputs": [],
   "source": [
    "import pandas as pd\n",
    "import numpy as np\n",
    "import matplotlib.pyplot as plt\n",
    "from decimal import Decimal\n",
    "from sklearn.linear_model import LinearRegression\n",
    "from sklearn.model_selection import train_test_split\n",
    "from sklearn.metrics import r2_score, mean_squared_error, root_mean_squared_error, accuracy_score, precision_score, recall_score"
   ]
  },
  {
   "cell_type": "markdown",
   "id": "3f22cca5-75fb-41ba-bb32-4ff27dd471b8",
   "metadata": {},
   "source": [
    "#### <b>Common Functions:</b>"
   ]
  },
  {
   "cell_type": "code",
   "execution_count": 295,
   "id": "03552546-f204-40be-ae4e-d2394c385cfe",
   "metadata": {},
   "outputs": [],
   "source": [
    "def dfcols(dataframe):\n",
    "    \"\"\"\n",
    "    Docstring: Function to return column names, useful when copy and pasting into formulas\n",
    "    \"\"\"\n",
    "    return dataframe.columns\n",
    "\n",
    "def dfhead(dataframe):\n",
    "    \"\"\"\n",
    "    Docstring: Function to return 2 columns, I return records a lot to confirm the ETL is going well\n",
    "    \"\"\"\n",
    "    return dataframe.head(2)\n",
    "\n",
    "def dfnulls(dataframe):\n",
    "    \"\"\"\n",
    "    Docstring: I check null counts a few times in data cleaning\n",
    "    \"\"\"\n",
    "    return dataframe.isnull().sum()"
   ]
  },
  {
   "cell_type": "markdown",
   "id": "64098e15-d19d-4979-b0d4-4aa3772f1a04",
   "metadata": {},
   "source": [
    "##### <b>Loading the data:</b>"
   ]
  },
  {
   "cell_type": "code",
   "execution_count": 296,
   "id": "d686411c-fb0d-4ded-b0d6-375170c0a91a",
   "metadata": {},
   "outputs": [],
   "source": [
    "csv = \"Project1Data.csv\""
   ]
  },
  {
   "cell_type": "code",
   "execution_count": 297,
   "id": "1b76db0a-9cb5-4271-ba06-b30643dd8854",
   "metadata": {},
   "outputs": [],
   "source": [
    "df = pd.read_csv(csv)"
   ]
  },
  {
   "cell_type": "code",
   "execution_count": 298,
   "id": "6aed26d6-83f0-4d1b-924c-24523ae1e809",
   "metadata": {},
   "outputs": [
    {
     "name": "stdout",
     "output_type": "stream",
     "text": [
      "Index(['Data Source Name', 'Data Source Code', 'Series Name', 'Series Code',\n",
      "       'Country Name', 'Country Code', '2009 [YR2009]', '2010 [YR2010]',\n",
      "       '2011 [YR2011]', '2012 [YR2012]'],\n",
      "      dtype='object')\n"
     ]
    }
   ],
   "source": [
    "cols = dfcols(df)\n",
    "print(cols)"
   ]
  },
  {
   "cell_type": "code",
   "execution_count": 299,
   "id": "461d62ff-8732-4479-9e6c-f00d3b43978c",
   "metadata": {},
   "outputs": [
    {
     "name": "stdout",
     "output_type": "stream",
     "text": [
      "                        Data Source Name Data Source Code  \\\n",
      "0  Landmine and Cluster Munition Monitor          Monitor   \n",
      "1  Landmine and Cluster Munition Monitor          Monitor   \n",
      "\n",
      "                    Series Name Series Code Country Name Country Code  \\\n",
      "0  Anti-vehicle mines destroyed      LCM.57  Afghanistan          AFG   \n",
      "1  Anti-vehicle mines destroyed      LCM.57      Albania          ALB   \n",
      "\n",
      "  2009 [YR2009] 2010 [YR2010] 2011 [YR2011] 2012 [YR2012]  \n",
      "0            ..            ..          1032            ..  \n",
      "1            ..            ..            ..            ..  \n"
     ]
    }
   ],
   "source": [
    "head = dfhead(df)\n",
    "print(head)"
   ]
  },
  {
   "cell_type": "code",
   "execution_count": 300,
   "id": "9e30388b-d03c-4559-acc1-00aa3aec22d7",
   "metadata": {},
   "outputs": [
    {
     "name": "stdout",
     "output_type": "stream",
     "text": [
      "Data Source Name    3\n",
      "Data Source Code    5\n",
      "Series Name         5\n",
      "Series Code         5\n",
      "Country Name        5\n",
      "Country Code        5\n",
      "2009 [YR2009]       5\n",
      "2010 [YR2010]       5\n",
      "2011 [YR2011]       5\n",
      "2012 [YR2012]       5\n",
      "dtype: int64\n"
     ]
    }
   ],
   "source": [
    "# Checking if there are Nulls in the dataset\n",
    "nulls = dfnulls(df)\n",
    "print(nulls)"
   ]
  },
  {
   "cell_type": "code",
   "execution_count": 301,
   "id": "d5565f1e-93a8-4786-b55d-3ac73d7cd822",
   "metadata": {},
   "outputs": [
    {
     "name": "stdout",
     "output_type": "stream",
     "text": [
      "                                      Data Source Name Data Source Code  \\\n",
      "848                                                NaN              NaN   \n",
      "849                                                NaN              NaN   \n",
      "850                                                NaN              NaN   \n",
      "851  Data from database: Landmine Contamination Cas...              NaN   \n",
      "852                           Last Updated: 08/16/2013              NaN   \n",
      "\n",
      "    Series Name Series Code Country Name Country Code 2009 [YR2009]  \\\n",
      "848         NaN         NaN          NaN          NaN           NaN   \n",
      "849         NaN         NaN          NaN          NaN           NaN   \n",
      "850         NaN         NaN          NaN          NaN           NaN   \n",
      "851         NaN         NaN          NaN          NaN           NaN   \n",
      "852         NaN         NaN          NaN          NaN           NaN   \n",
      "\n",
      "    2010 [YR2010] 2011 [YR2011] 2012 [YR2012]  \n",
      "848           NaN           NaN           NaN  \n",
      "849           NaN           NaN           NaN  \n",
      "850           NaN           NaN           NaN  \n",
      "851           NaN           NaN           NaN  \n",
      "852           NaN           NaN           NaN  \n"
     ]
    }
   ],
   "source": [
    "# There are in fact Null rows, I will want to remove those later on\n",
    "filtered_df = df[df['Series Name'].isna()]\n",
    "print(filtered_df)"
   ]
  },
  {
   "cell_type": "code",
   "execution_count": 302,
   "id": "90d1bf52-2c5f-46a7-bc65-d3dbdcc3da36",
   "metadata": {},
   "outputs": [
    {
     "data": {
      "text/plain": [
       "Data Source Name    object\n",
       "Data Source Code    object\n",
       "Series Name         object\n",
       "Series Code         object\n",
       "Country Name        object\n",
       "Country Code        object\n",
       "2009 [YR2009]       object\n",
       "2010 [YR2010]       object\n",
       "2011 [YR2011]       object\n",
       "2012 [YR2012]       object\n",
       "dtype: object"
      ]
     },
     "execution_count": 302,
     "metadata": {},
     "output_type": "execute_result"
    }
   ],
   "source": [
    "filtered_df.dtypes"
   ]
  },
  {
   "cell_type": "markdown",
   "id": "32d15f1e-ec6e-4415-bccf-f8500bd65d3a",
   "metadata": {},
   "source": [
    "#### <font color = \"green\"><center><b><u>Initial Exploratory Analysis Summary and Notes</b></u>\n",
    " - The Years are Columns, I want to unpivot this into a single column with their values, and another column with the actual Year Values\n",
    " - I want to remove NaN trailing CSV rows\n",
    " - The Series Names are my other Features, I want these to be individual columns, with their Values below, so ill need to pivot them\n",
    " - I noticed \"..\" are placeholders for the lack of data, there may be cells with 0 as well, I consider \"..\" as Nulls, and will remove them\n",
    " - All of the columns are objects, which will likely not be useful, so ill need to convert them to integers/float\n",
    " - <b>I want to make some plots to view the Series/Features</b> a bit more visually, however I know I want the data to be pivotted around a bit more, so will finish this off in the next section!! :)"
   ]
  },
  {
   "cell_type": "markdown",
   "id": "0d828711-a227-4212-9942-3593baff7756",
   "metadata": {},
   "source": [
    "##### "
   ]
  },
  {
   "cell_type": "markdown",
   "id": "303762e9-147c-4c89-a0ac-6229185a4911",
   "metadata": {},
   "source": [
    "---"
   ]
  },
  {
   "cell_type": "markdown",
   "id": "5b2bc317-fa45-4d65-80d7-212ca3667cca",
   "metadata": {},
   "source": [
    "##### "
   ]
  },
  {
   "cell_type": "markdown",
   "id": "7b873bf2-80c8-4d49-a947-29ccba0866ad",
   "metadata": {},
   "source": [
    "### <center><u><font color = \"green\"><b> Data Preparation:</b> <font color = \"black\">Merge, Clean, Transform Data + Address Issues</u><center>"
   ]
  },
  {
   "cell_type": "markdown",
   "id": "0bc6c70d-07ca-4642-83f3-7161c6d99ef6",
   "metadata": {},
   "source": [
    "##### <b>Unpivot/Melt the Year Columns:</b>"
   ]
  },
  {
   "cell_type": "code",
   "execution_count": 303,
   "id": "9e7562cd-0b8f-4f9e-be1a-89205e12cef6",
   "metadata": {},
   "outputs": [
    {
     "name": "stdout",
     "output_type": "stream",
     "text": [
      "Index(['Data Source Name', 'Data Source Code', 'Series Name', 'Series Code',\n",
      "       'Country Name', 'Country Code', '2009 [YR2009]', '2010 [YR2010]',\n",
      "       '2011 [YR2011]', '2012 [YR2012]'],\n",
      "      dtype='object')\n"
     ]
    }
   ],
   "source": [
    "# Retrieving column names so I can easily copy and paste them into the melt proces below.\n",
    "cols = dfcols(df)\n",
    "print(cols)"
   ]
  },
  {
   "cell_type": "code",
   "execution_count": 304,
   "id": "e81a4ed5-48e6-40cf-ab97-325d8410f9f8",
   "metadata": {},
   "outputs": [],
   "source": [
    "df_unpivot = df.melt(id_vars=['Data Source Name', 'Data Source Code', 'Series Name', 'Series Code', 'Country Name', 'Country Code'], var_name='YearColumn')#, value_name='Score')"
   ]
  },
  {
   "cell_type": "code",
   "execution_count": 305,
   "id": "85fa1a50-bed7-4861-b4c2-53423c50c7d9",
   "metadata": {},
   "outputs": [
    {
     "name": "stdout",
     "output_type": "stream",
     "text": [
      "                        Data Source Name Data Source Code  \\\n",
      "0  Landmine and Cluster Munition Monitor          Monitor   \n",
      "1  Landmine and Cluster Munition Monitor          Monitor   \n",
      "\n",
      "                    Series Name Series Code Country Name Country Code  \\\n",
      "0  Anti-vehicle mines destroyed      LCM.57  Afghanistan          AFG   \n",
      "1  Anti-vehicle mines destroyed      LCM.57      Albania          ALB   \n",
      "\n",
      "      YearColumn value  \n",
      "0  2009 [YR2009]    ..  \n",
      "1  2009 [YR2009]    ..  \n"
     ]
    }
   ],
   "source": [
    "head = dfhead(df_unpivot)\n",
    "print(head)"
   ]
  },
  {
   "cell_type": "code",
   "execution_count": 306,
   "id": "35b4e081-5671-43cf-b326-d68f036c0e16",
   "metadata": {},
   "outputs": [],
   "source": [
    "df_unpivot['Years'] = df_unpivot['YearColumn'].str[:4]"
   ]
  },
  {
   "cell_type": "code",
   "execution_count": 307,
   "id": "f329ed38-7cf0-461f-a528-210cae84bc40",
   "metadata": {},
   "outputs": [
    {
     "name": "stdout",
     "output_type": "stream",
     "text": [
      "                        Data Source Name Data Source Code  \\\n",
      "0  Landmine and Cluster Munition Monitor          Monitor   \n",
      "1  Landmine and Cluster Munition Monitor          Monitor   \n",
      "\n",
      "                    Series Name Series Code Country Name Country Code  \\\n",
      "0  Anti-vehicle mines destroyed      LCM.57  Afghanistan          AFG   \n",
      "1  Anti-vehicle mines destroyed      LCM.57      Albania          ALB   \n",
      "\n",
      "      YearColumn value Years  \n",
      "0  2009 [YR2009]    ..  2009  \n",
      "1  2009 [YR2009]    ..  2009  \n"
     ]
    }
   ],
   "source": [
    "head = dfhead(df_unpivot)\n",
    "print(head)"
   ]
  },
  {
   "cell_type": "code",
   "execution_count": 308,
   "id": "ac379b47-b71c-430a-9a82-ceafd439952a",
   "metadata": {},
   "outputs": [],
   "source": [
    "''' After un-pivoting, this removes rows where there was no data for that series for the given Year '''\n",
    "df_wo_null = df_unpivot[df_unpivot['value'] != \"..\"]"
   ]
  },
  {
   "cell_type": "code",
   "execution_count": 309,
   "id": "f68242ef-453b-4b1a-9dd4-beb8ee5a0076",
   "metadata": {},
   "outputs": [
    {
     "name": "stdout",
     "output_type": "stream",
     "text": [
      "                          Data Source Name Data Source Code  \\\n",
      "424  Landmine and Cluster Munition Monitor          Monitor   \n",
      "425  Landmine and Cluster Munition Monitor          Monitor   \n",
      "\n",
      "                   Series Name Series Code Country Name Country Code  \\\n",
      "424  Mine area cleared (sq.km)      LCM.43  Afghanistan          AFG   \n",
      "425  Mine area cleared (sq.km)      LCM.43      Albania          ALB   \n",
      "\n",
      "        YearColumn value Years  \n",
      "424  2009 [YR2009]  51.5  2009  \n",
      "425  2009 [YR2009]   0.1  2009  \n"
     ]
    }
   ],
   "source": [
    "# Rows where Value = \"..\" are now gone, no need to take up space\n",
    "head = dfhead(df_wo_null)\n",
    "print(head)"
   ]
  },
  {
   "cell_type": "markdown",
   "id": "b0562df1-0d9a-4ae5-b646-ad798faa1032",
   "metadata": {},
   "source": [
    "######"
   ]
  },
  {
   "cell_type": "markdown",
   "id": "0c7323d4-0d27-4bf1-a94b-3cd3bb6bc430",
   "metadata": {},
   "source": [
    "##### <b>Check and Remove Trailing CSV Footer Rows:</b>"
   ]
  },
  {
   "cell_type": "code",
   "execution_count": 310,
   "id": "f96fbb69-c019-45ac-b23a-6db811d2716e",
   "metadata": {},
   "outputs": [
    {
     "data": {
      "text/html": [
       "<div>\n",
       "<style scoped>\n",
       "    .dataframe tbody tr th:only-of-type {\n",
       "        vertical-align: middle;\n",
       "    }\n",
       "\n",
       "    .dataframe tbody tr th {\n",
       "        vertical-align: top;\n",
       "    }\n",
       "\n",
       "    .dataframe thead th {\n",
       "        text-align: right;\n",
       "    }\n",
       "</style>\n",
       "<table border=\"1\" class=\"dataframe\">\n",
       "  <thead>\n",
       "    <tr style=\"text-align: right;\">\n",
       "      <th></th>\n",
       "      <th>Data Source Name</th>\n",
       "      <th>Data Source Code</th>\n",
       "      <th>Series Name</th>\n",
       "      <th>Series Code</th>\n",
       "      <th>Country Name</th>\n",
       "      <th>Country Code</th>\n",
       "      <th>YearColumn</th>\n",
       "      <th>value</th>\n",
       "      <th>Years</th>\n",
       "    </tr>\n",
       "  </thead>\n",
       "  <tbody>\n",
       "    <tr>\n",
       "      <th>3130</th>\n",
       "      <td>Landmine and Cluster Munition Monitor</td>\n",
       "      <td>Monitor</td>\n",
       "      <td>Mine area cleared (sq.km)</td>\n",
       "      <td>LCM.43</td>\n",
       "      <td>Peru</td>\n",
       "      <td>PER</td>\n",
       "      <td>2012 [YR2012]</td>\n",
       "      <td>0.010817</td>\n",
       "      <td>2012</td>\n",
       "    </tr>\n",
       "    <tr>\n",
       "      <th>3178</th>\n",
       "      <td>Landmine and Cluster Munition Monitor</td>\n",
       "      <td>Monitor</td>\n",
       "      <td>Mine area cleared (sq.km)</td>\n",
       "      <td>LCM.43</td>\n",
       "      <td>Uganda</td>\n",
       "      <td>UGA</td>\n",
       "      <td>2012 [YR2012]</td>\n",
       "      <td>0.103955</td>\n",
       "      <td>2012</td>\n",
       "    </tr>\n",
       "    <tr>\n",
       "      <th>3198</th>\n",
       "      <td>Landmine and Cluster Munition Monitor</td>\n",
       "      <td>Monitor</td>\n",
       "      <td>Non Anti-vehicle mines destroyed</td>\n",
       "      <td>LCM.58</td>\n",
       "      <td>Andorra</td>\n",
       "      <td>AND</td>\n",
       "      <td>2012 [YR2012]</td>\n",
       "      <td>0</td>\n",
       "      <td>2012</td>\n",
       "    </tr>\n",
       "    <tr>\n",
       "      <th>3343</th>\n",
       "      <td>Landmine and Cluster Munition Monitor</td>\n",
       "      <td>Monitor</td>\n",
       "      <td>Non Anti-vehicle mines destroyed</td>\n",
       "      <td>LCM.58</td>\n",
       "      <td>Philippines</td>\n",
       "      <td>PHL</td>\n",
       "      <td>2012 [YR2012]</td>\n",
       "      <td>334</td>\n",
       "      <td>2012</td>\n",
       "    </tr>\n",
       "    <tr>\n",
       "      <th>3391</th>\n",
       "      <td>Landmine and Cluster Munition Monitor</td>\n",
       "      <td>Monitor</td>\n",
       "      <td>Non Anti-vehicle mines destroyed</td>\n",
       "      <td>LCM.58</td>\n",
       "      <td>Ukraine</td>\n",
       "      <td>UKR</td>\n",
       "      <td>2012 [YR2012]</td>\n",
       "      <td>6720</td>\n",
       "      <td>2012</td>\n",
       "    </tr>\n",
       "    <tr>\n",
       "      <th>3407</th>\n",
       "      <td>NaN</td>\n",
       "      <td>NaN</td>\n",
       "      <td>NaN</td>\n",
       "      <td>NaN</td>\n",
       "      <td>NaN</td>\n",
       "      <td>NaN</td>\n",
       "      <td>2012 [YR2012]</td>\n",
       "      <td>NaN</td>\n",
       "      <td>2012</td>\n",
       "    </tr>\n",
       "    <tr>\n",
       "      <th>3408</th>\n",
       "      <td>NaN</td>\n",
       "      <td>NaN</td>\n",
       "      <td>NaN</td>\n",
       "      <td>NaN</td>\n",
       "      <td>NaN</td>\n",
       "      <td>NaN</td>\n",
       "      <td>2012 [YR2012]</td>\n",
       "      <td>NaN</td>\n",
       "      <td>2012</td>\n",
       "    </tr>\n",
       "    <tr>\n",
       "      <th>3409</th>\n",
       "      <td>NaN</td>\n",
       "      <td>NaN</td>\n",
       "      <td>NaN</td>\n",
       "      <td>NaN</td>\n",
       "      <td>NaN</td>\n",
       "      <td>NaN</td>\n",
       "      <td>2012 [YR2012]</td>\n",
       "      <td>NaN</td>\n",
       "      <td>2012</td>\n",
       "    </tr>\n",
       "    <tr>\n",
       "      <th>3410</th>\n",
       "      <td>Data from database: Landmine Contamination Cas...</td>\n",
       "      <td>NaN</td>\n",
       "      <td>NaN</td>\n",
       "      <td>NaN</td>\n",
       "      <td>NaN</td>\n",
       "      <td>NaN</td>\n",
       "      <td>2012 [YR2012]</td>\n",
       "      <td>NaN</td>\n",
       "      <td>2012</td>\n",
       "    </tr>\n",
       "    <tr>\n",
       "      <th>3411</th>\n",
       "      <td>Last Updated: 08/16/2013</td>\n",
       "      <td>NaN</td>\n",
       "      <td>NaN</td>\n",
       "      <td>NaN</td>\n",
       "      <td>NaN</td>\n",
       "      <td>NaN</td>\n",
       "      <td>2012 [YR2012]</td>\n",
       "      <td>NaN</td>\n",
       "      <td>2012</td>\n",
       "    </tr>\n",
       "  </tbody>\n",
       "</table>\n",
       "</div>"
      ],
      "text/plain": [
       "                                       Data Source Name Data Source Code  \\\n",
       "3130              Landmine and Cluster Munition Monitor          Monitor   \n",
       "3178              Landmine and Cluster Munition Monitor          Monitor   \n",
       "3198              Landmine and Cluster Munition Monitor          Monitor   \n",
       "3343              Landmine and Cluster Munition Monitor          Monitor   \n",
       "3391              Landmine and Cluster Munition Monitor          Monitor   \n",
       "3407                                                NaN              NaN   \n",
       "3408                                                NaN              NaN   \n",
       "3409                                                NaN              NaN   \n",
       "3410  Data from database: Landmine Contamination Cas...              NaN   \n",
       "3411                           Last Updated: 08/16/2013              NaN   \n",
       "\n",
       "                           Series Name Series Code Country Name Country Code  \\\n",
       "3130         Mine area cleared (sq.km)      LCM.43         Peru          PER   \n",
       "3178         Mine area cleared (sq.km)      LCM.43       Uganda          UGA   \n",
       "3198  Non Anti-vehicle mines destroyed      LCM.58      Andorra          AND   \n",
       "3343  Non Anti-vehicle mines destroyed      LCM.58  Philippines          PHL   \n",
       "3391  Non Anti-vehicle mines destroyed      LCM.58      Ukraine          UKR   \n",
       "3407                               NaN         NaN          NaN          NaN   \n",
       "3408                               NaN         NaN          NaN          NaN   \n",
       "3409                               NaN         NaN          NaN          NaN   \n",
       "3410                               NaN         NaN          NaN          NaN   \n",
       "3411                               NaN         NaN          NaN          NaN   \n",
       "\n",
       "         YearColumn     value Years  \n",
       "3130  2012 [YR2012]  0.010817  2012  \n",
       "3178  2012 [YR2012]  0.103955  2012  \n",
       "3198  2012 [YR2012]         0  2012  \n",
       "3343  2012 [YR2012]       334  2012  \n",
       "3391  2012 [YR2012]      6720  2012  \n",
       "3407  2012 [YR2012]       NaN  2012  \n",
       "3408  2012 [YR2012]       NaN  2012  \n",
       "3409  2012 [YR2012]       NaN  2012  \n",
       "3410  2012 [YR2012]       NaN  2012  \n",
       "3411  2012 [YR2012]       NaN  2012  "
      ]
     },
     "execution_count": 310,
     "metadata": {},
     "output_type": "execute_result"
    }
   ],
   "source": [
    "''' Checking if there are in fact trailing footer rows '''\n",
    "df_wo_null.tail(10)"
   ]
  },
  {
   "cell_type": "markdown",
   "id": "5cf44c85-2b3a-45f3-9b18-06c3c68a4663",
   "metadata": {},
   "source": [
    "##### <b>Note:</b>\n",
    " - I want to make sure after the pivot that any NaN are that should be removed are out of the data\n",
    " - Before continuing to pivot the Series into their own columns"
   ]
  },
  {
   "cell_type": "code",
   "execution_count": 311,
   "id": "e81847e4-9a76-4b76-a16d-ed40da52d751",
   "metadata": {},
   "outputs": [
    {
     "name": "stdout",
     "output_type": "stream",
     "text": [
      "Data Source Name    12\n",
      "Data Source Code    20\n",
      "Series Name         20\n",
      "Series Code         20\n",
      "Country Name        20\n",
      "Country Code        20\n",
      "YearColumn           0\n",
      "value               20\n",
      "Years                0\n",
      "dtype: int64\n"
     ]
    }
   ],
   "source": [
    "''' There are 5 trailing rows, checking as I suspect the melt function may have duplicated some '''\n",
    "nulls = dfnulls(df_wo_null)\n",
    "print(nulls)"
   ]
  },
  {
   "cell_type": "code",
   "execution_count": 312,
   "id": "2afeb89e-4630-40b7-b4bc-e074a72e7034",
   "metadata": {},
   "outputs": [
    {
     "data": {
      "text/html": [
       "<div>\n",
       "<style scoped>\n",
       "    .dataframe tbody tr th:only-of-type {\n",
       "        vertical-align: middle;\n",
       "    }\n",
       "\n",
       "    .dataframe tbody tr th {\n",
       "        vertical-align: top;\n",
       "    }\n",
       "\n",
       "    .dataframe thead th {\n",
       "        text-align: right;\n",
       "    }\n",
       "</style>\n",
       "<table border=\"1\" class=\"dataframe\">\n",
       "  <thead>\n",
       "    <tr style=\"text-align: right;\">\n",
       "      <th></th>\n",
       "      <th>Data Source Name</th>\n",
       "      <th>Data Source Code</th>\n",
       "      <th>Series Name</th>\n",
       "      <th>Series Code</th>\n",
       "      <th>Country Name</th>\n",
       "      <th>Country Code</th>\n",
       "      <th>YearColumn</th>\n",
       "      <th>value</th>\n",
       "      <th>Years</th>\n",
       "    </tr>\n",
       "  </thead>\n",
       "  <tbody>\n",
       "    <tr>\n",
       "      <th>848</th>\n",
       "      <td>NaN</td>\n",
       "      <td>NaN</td>\n",
       "      <td>NaN</td>\n",
       "      <td>NaN</td>\n",
       "      <td>NaN</td>\n",
       "      <td>NaN</td>\n",
       "      <td>2009 [YR2009]</td>\n",
       "      <td>NaN</td>\n",
       "      <td>2009</td>\n",
       "    </tr>\n",
       "    <tr>\n",
       "      <th>849</th>\n",
       "      <td>NaN</td>\n",
       "      <td>NaN</td>\n",
       "      <td>NaN</td>\n",
       "      <td>NaN</td>\n",
       "      <td>NaN</td>\n",
       "      <td>NaN</td>\n",
       "      <td>2009 [YR2009]</td>\n",
       "      <td>NaN</td>\n",
       "      <td>2009</td>\n",
       "    </tr>\n",
       "    <tr>\n",
       "      <th>850</th>\n",
       "      <td>NaN</td>\n",
       "      <td>NaN</td>\n",
       "      <td>NaN</td>\n",
       "      <td>NaN</td>\n",
       "      <td>NaN</td>\n",
       "      <td>NaN</td>\n",
       "      <td>2009 [YR2009]</td>\n",
       "      <td>NaN</td>\n",
       "      <td>2009</td>\n",
       "    </tr>\n",
       "    <tr>\n",
       "      <th>851</th>\n",
       "      <td>Data from database: Landmine Contamination Cas...</td>\n",
       "      <td>NaN</td>\n",
       "      <td>NaN</td>\n",
       "      <td>NaN</td>\n",
       "      <td>NaN</td>\n",
       "      <td>NaN</td>\n",
       "      <td>2009 [YR2009]</td>\n",
       "      <td>NaN</td>\n",
       "      <td>2009</td>\n",
       "    </tr>\n",
       "    <tr>\n",
       "      <th>852</th>\n",
       "      <td>Last Updated: 08/16/2013</td>\n",
       "      <td>NaN</td>\n",
       "      <td>NaN</td>\n",
       "      <td>NaN</td>\n",
       "      <td>NaN</td>\n",
       "      <td>NaN</td>\n",
       "      <td>2009 [YR2009]</td>\n",
       "      <td>NaN</td>\n",
       "      <td>2009</td>\n",
       "    </tr>\n",
       "    <tr>\n",
       "      <th>1701</th>\n",
       "      <td>NaN</td>\n",
       "      <td>NaN</td>\n",
       "      <td>NaN</td>\n",
       "      <td>NaN</td>\n",
       "      <td>NaN</td>\n",
       "      <td>NaN</td>\n",
       "      <td>2010 [YR2010]</td>\n",
       "      <td>NaN</td>\n",
       "      <td>2010</td>\n",
       "    </tr>\n",
       "    <tr>\n",
       "      <th>1702</th>\n",
       "      <td>NaN</td>\n",
       "      <td>NaN</td>\n",
       "      <td>NaN</td>\n",
       "      <td>NaN</td>\n",
       "      <td>NaN</td>\n",
       "      <td>NaN</td>\n",
       "      <td>2010 [YR2010]</td>\n",
       "      <td>NaN</td>\n",
       "      <td>2010</td>\n",
       "    </tr>\n",
       "    <tr>\n",
       "      <th>1703</th>\n",
       "      <td>NaN</td>\n",
       "      <td>NaN</td>\n",
       "      <td>NaN</td>\n",
       "      <td>NaN</td>\n",
       "      <td>NaN</td>\n",
       "      <td>NaN</td>\n",
       "      <td>2010 [YR2010]</td>\n",
       "      <td>NaN</td>\n",
       "      <td>2010</td>\n",
       "    </tr>\n",
       "    <tr>\n",
       "      <th>1704</th>\n",
       "      <td>Data from database: Landmine Contamination Cas...</td>\n",
       "      <td>NaN</td>\n",
       "      <td>NaN</td>\n",
       "      <td>NaN</td>\n",
       "      <td>NaN</td>\n",
       "      <td>NaN</td>\n",
       "      <td>2010 [YR2010]</td>\n",
       "      <td>NaN</td>\n",
       "      <td>2010</td>\n",
       "    </tr>\n",
       "    <tr>\n",
       "      <th>1705</th>\n",
       "      <td>Last Updated: 08/16/2013</td>\n",
       "      <td>NaN</td>\n",
       "      <td>NaN</td>\n",
       "      <td>NaN</td>\n",
       "      <td>NaN</td>\n",
       "      <td>NaN</td>\n",
       "      <td>2010 [YR2010]</td>\n",
       "      <td>NaN</td>\n",
       "      <td>2010</td>\n",
       "    </tr>\n",
       "    <tr>\n",
       "      <th>2554</th>\n",
       "      <td>NaN</td>\n",
       "      <td>NaN</td>\n",
       "      <td>NaN</td>\n",
       "      <td>NaN</td>\n",
       "      <td>NaN</td>\n",
       "      <td>NaN</td>\n",
       "      <td>2011 [YR2011]</td>\n",
       "      <td>NaN</td>\n",
       "      <td>2011</td>\n",
       "    </tr>\n",
       "    <tr>\n",
       "      <th>2555</th>\n",
       "      <td>NaN</td>\n",
       "      <td>NaN</td>\n",
       "      <td>NaN</td>\n",
       "      <td>NaN</td>\n",
       "      <td>NaN</td>\n",
       "      <td>NaN</td>\n",
       "      <td>2011 [YR2011]</td>\n",
       "      <td>NaN</td>\n",
       "      <td>2011</td>\n",
       "    </tr>\n",
       "    <tr>\n",
       "      <th>2556</th>\n",
       "      <td>NaN</td>\n",
       "      <td>NaN</td>\n",
       "      <td>NaN</td>\n",
       "      <td>NaN</td>\n",
       "      <td>NaN</td>\n",
       "      <td>NaN</td>\n",
       "      <td>2011 [YR2011]</td>\n",
       "      <td>NaN</td>\n",
       "      <td>2011</td>\n",
       "    </tr>\n",
       "    <tr>\n",
       "      <th>2557</th>\n",
       "      <td>Data from database: Landmine Contamination Cas...</td>\n",
       "      <td>NaN</td>\n",
       "      <td>NaN</td>\n",
       "      <td>NaN</td>\n",
       "      <td>NaN</td>\n",
       "      <td>NaN</td>\n",
       "      <td>2011 [YR2011]</td>\n",
       "      <td>NaN</td>\n",
       "      <td>2011</td>\n",
       "    </tr>\n",
       "    <tr>\n",
       "      <th>2558</th>\n",
       "      <td>Last Updated: 08/16/2013</td>\n",
       "      <td>NaN</td>\n",
       "      <td>NaN</td>\n",
       "      <td>NaN</td>\n",
       "      <td>NaN</td>\n",
       "      <td>NaN</td>\n",
       "      <td>2011 [YR2011]</td>\n",
       "      <td>NaN</td>\n",
       "      <td>2011</td>\n",
       "    </tr>\n",
       "    <tr>\n",
       "      <th>3407</th>\n",
       "      <td>NaN</td>\n",
       "      <td>NaN</td>\n",
       "      <td>NaN</td>\n",
       "      <td>NaN</td>\n",
       "      <td>NaN</td>\n",
       "      <td>NaN</td>\n",
       "      <td>2012 [YR2012]</td>\n",
       "      <td>NaN</td>\n",
       "      <td>2012</td>\n",
       "    </tr>\n",
       "    <tr>\n",
       "      <th>3408</th>\n",
       "      <td>NaN</td>\n",
       "      <td>NaN</td>\n",
       "      <td>NaN</td>\n",
       "      <td>NaN</td>\n",
       "      <td>NaN</td>\n",
       "      <td>NaN</td>\n",
       "      <td>2012 [YR2012]</td>\n",
       "      <td>NaN</td>\n",
       "      <td>2012</td>\n",
       "    </tr>\n",
       "    <tr>\n",
       "      <th>3409</th>\n",
       "      <td>NaN</td>\n",
       "      <td>NaN</td>\n",
       "      <td>NaN</td>\n",
       "      <td>NaN</td>\n",
       "      <td>NaN</td>\n",
       "      <td>NaN</td>\n",
       "      <td>2012 [YR2012]</td>\n",
       "      <td>NaN</td>\n",
       "      <td>2012</td>\n",
       "    </tr>\n",
       "    <tr>\n",
       "      <th>3410</th>\n",
       "      <td>Data from database: Landmine Contamination Cas...</td>\n",
       "      <td>NaN</td>\n",
       "      <td>NaN</td>\n",
       "      <td>NaN</td>\n",
       "      <td>NaN</td>\n",
       "      <td>NaN</td>\n",
       "      <td>2012 [YR2012]</td>\n",
       "      <td>NaN</td>\n",
       "      <td>2012</td>\n",
       "    </tr>\n",
       "    <tr>\n",
       "      <th>3411</th>\n",
       "      <td>Last Updated: 08/16/2013</td>\n",
       "      <td>NaN</td>\n",
       "      <td>NaN</td>\n",
       "      <td>NaN</td>\n",
       "      <td>NaN</td>\n",
       "      <td>NaN</td>\n",
       "      <td>2012 [YR2012]</td>\n",
       "      <td>NaN</td>\n",
       "      <td>2012</td>\n",
       "    </tr>\n",
       "  </tbody>\n",
       "</table>\n",
       "</div>"
      ],
      "text/plain": [
       "                                       Data Source Name Data Source Code  \\\n",
       "848                                                 NaN              NaN   \n",
       "849                                                 NaN              NaN   \n",
       "850                                                 NaN              NaN   \n",
       "851   Data from database: Landmine Contamination Cas...              NaN   \n",
       "852                            Last Updated: 08/16/2013              NaN   \n",
       "1701                                                NaN              NaN   \n",
       "1702                                                NaN              NaN   \n",
       "1703                                                NaN              NaN   \n",
       "1704  Data from database: Landmine Contamination Cas...              NaN   \n",
       "1705                           Last Updated: 08/16/2013              NaN   \n",
       "2554                                                NaN              NaN   \n",
       "2555                                                NaN              NaN   \n",
       "2556                                                NaN              NaN   \n",
       "2557  Data from database: Landmine Contamination Cas...              NaN   \n",
       "2558                           Last Updated: 08/16/2013              NaN   \n",
       "3407                                                NaN              NaN   \n",
       "3408                                                NaN              NaN   \n",
       "3409                                                NaN              NaN   \n",
       "3410  Data from database: Landmine Contamination Cas...              NaN   \n",
       "3411                           Last Updated: 08/16/2013              NaN   \n",
       "\n",
       "     Series Name Series Code Country Name Country Code     YearColumn value  \\\n",
       "848          NaN         NaN          NaN          NaN  2009 [YR2009]   NaN   \n",
       "849          NaN         NaN          NaN          NaN  2009 [YR2009]   NaN   \n",
       "850          NaN         NaN          NaN          NaN  2009 [YR2009]   NaN   \n",
       "851          NaN         NaN          NaN          NaN  2009 [YR2009]   NaN   \n",
       "852          NaN         NaN          NaN          NaN  2009 [YR2009]   NaN   \n",
       "1701         NaN         NaN          NaN          NaN  2010 [YR2010]   NaN   \n",
       "1702         NaN         NaN          NaN          NaN  2010 [YR2010]   NaN   \n",
       "1703         NaN         NaN          NaN          NaN  2010 [YR2010]   NaN   \n",
       "1704         NaN         NaN          NaN          NaN  2010 [YR2010]   NaN   \n",
       "1705         NaN         NaN          NaN          NaN  2010 [YR2010]   NaN   \n",
       "2554         NaN         NaN          NaN          NaN  2011 [YR2011]   NaN   \n",
       "2555         NaN         NaN          NaN          NaN  2011 [YR2011]   NaN   \n",
       "2556         NaN         NaN          NaN          NaN  2011 [YR2011]   NaN   \n",
       "2557         NaN         NaN          NaN          NaN  2011 [YR2011]   NaN   \n",
       "2558         NaN         NaN          NaN          NaN  2011 [YR2011]   NaN   \n",
       "3407         NaN         NaN          NaN          NaN  2012 [YR2012]   NaN   \n",
       "3408         NaN         NaN          NaN          NaN  2012 [YR2012]   NaN   \n",
       "3409         NaN         NaN          NaN          NaN  2012 [YR2012]   NaN   \n",
       "3410         NaN         NaN          NaN          NaN  2012 [YR2012]   NaN   \n",
       "3411         NaN         NaN          NaN          NaN  2012 [YR2012]   NaN   \n",
       "\n",
       "     Years  \n",
       "848   2009  \n",
       "849   2009  \n",
       "850   2009  \n",
       "851   2009  \n",
       "852   2009  \n",
       "1701  2010  \n",
       "1702  2010  \n",
       "1703  2010  \n",
       "1704  2010  \n",
       "1705  2010  \n",
       "2554  2011  \n",
       "2555  2011  \n",
       "2556  2011  \n",
       "2557  2011  \n",
       "2558  2011  \n",
       "3407  2012  \n",
       "3408  2012  \n",
       "3409  2012  \n",
       "3410  2012  \n",
       "3411  2012  "
      ]
     },
     "execution_count": 312,
     "metadata": {},
     "output_type": "execute_result"
    }
   ],
   "source": [
    "''' The above shows more counts than Data Understanding section presented, filtering for them to verify '''\n",
    "\n",
    "filtered_df = df_wo_null[df_wo_null['Series Name'].isna()]\n",
    "filtered_df.head(20)"
   ]
  },
  {
   "cell_type": "code",
   "execution_count": 313,
   "id": "01109a52-efc8-4999-a8f9-15c97cd26e21",
   "metadata": {},
   "outputs": [
    {
     "name": "stderr",
     "output_type": "stream",
     "text": [
      "C:\\Users\\esplms3\\AppData\\Local\\Temp\\1\\ipykernel_14704\\25670534.py:3: SettingWithCopyWarning: \n",
      "A value is trying to be set on a copy of a slice from a DataFrame\n",
      "\n",
      "See the caveats in the documentation: https://pandas.pydata.org/pandas-docs/stable/user_guide/indexing.html#returning-a-view-versus-a-copy\n",
      "  df_wo_null.dropna(inplace = True)\n"
     ]
    },
    {
     "data": {
      "text/html": [
       "<div>\n",
       "<style scoped>\n",
       "    .dataframe tbody tr th:only-of-type {\n",
       "        vertical-align: middle;\n",
       "    }\n",
       "\n",
       "    .dataframe tbody tr th {\n",
       "        vertical-align: top;\n",
       "    }\n",
       "\n",
       "    .dataframe thead th {\n",
       "        text-align: right;\n",
       "    }\n",
       "</style>\n",
       "<table border=\"1\" class=\"dataframe\">\n",
       "  <thead>\n",
       "    <tr style=\"text-align: right;\">\n",
       "      <th></th>\n",
       "      <th>Data Source Name</th>\n",
       "      <th>Data Source Code</th>\n",
       "      <th>Series Name</th>\n",
       "      <th>Series Code</th>\n",
       "      <th>Country Name</th>\n",
       "      <th>Country Code</th>\n",
       "      <th>YearColumn</th>\n",
       "      <th>value</th>\n",
       "      <th>Years</th>\n",
       "    </tr>\n",
       "  </thead>\n",
       "  <tbody>\n",
       "    <tr>\n",
       "      <th>3343</th>\n",
       "      <td>Landmine and Cluster Munition Monitor</td>\n",
       "      <td>Monitor</td>\n",
       "      <td>Non Anti-vehicle mines destroyed</td>\n",
       "      <td>LCM.58</td>\n",
       "      <td>Philippines</td>\n",
       "      <td>PHL</td>\n",
       "      <td>2012 [YR2012]</td>\n",
       "      <td>334</td>\n",
       "      <td>2012</td>\n",
       "    </tr>\n",
       "    <tr>\n",
       "      <th>3391</th>\n",
       "      <td>Landmine and Cluster Munition Monitor</td>\n",
       "      <td>Monitor</td>\n",
       "      <td>Non Anti-vehicle mines destroyed</td>\n",
       "      <td>LCM.58</td>\n",
       "      <td>Ukraine</td>\n",
       "      <td>UKR</td>\n",
       "      <td>2012 [YR2012]</td>\n",
       "      <td>6720</td>\n",
       "      <td>2012</td>\n",
       "    </tr>\n",
       "  </tbody>\n",
       "</table>\n",
       "</div>"
      ],
      "text/plain": [
       "                           Data Source Name Data Source Code  \\\n",
       "3343  Landmine and Cluster Munition Monitor          Monitor   \n",
       "3391  Landmine and Cluster Munition Monitor          Monitor   \n",
       "\n",
       "                           Series Name Series Code Country Name Country Code  \\\n",
       "3343  Non Anti-vehicle mines destroyed      LCM.58  Philippines          PHL   \n",
       "3391  Non Anti-vehicle mines destroyed      LCM.58      Ukraine          UKR   \n",
       "\n",
       "         YearColumn value Years  \n",
       "3343  2012 [YR2012]   334  2012  \n",
       "3391  2012 [YR2012]  6720  2012  "
      ]
     },
     "execution_count": 313,
     "metadata": {},
     "output_type": "execute_result"
    }
   ],
   "source": [
    "''' All the NaN are from duplicated trailing rows, I feel comfortable dropping all NaN now from the DataFrame '''\n",
    "\n",
    "df_wo_null.dropna(inplace = True)\n",
    "df_wo_null.tail(2)"
   ]
  },
  {
   "cell_type": "code",
   "execution_count": 314,
   "id": "bab5c3f2-d4aa-4a50-93d3-f9a993d307fa",
   "metadata": {},
   "outputs": [
    {
     "name": "stdout",
     "output_type": "stream",
     "text": [
      "Data Source Name    0\n",
      "Data Source Code    0\n",
      "Series Name         0\n",
      "Series Code         0\n",
      "Country Name        0\n",
      "Country Code        0\n",
      "YearColumn          0\n",
      "value               0\n",
      "Years               0\n",
      "dtype: int64\n"
     ]
    }
   ],
   "source": [
    "# Double-check all the NaN are removed in the current DataFrame design\n",
    "nulls = dfnulls(df_wo_null)\n",
    "print(nulls)"
   ]
  },
  {
   "cell_type": "markdown",
   "id": "23cac335-d865-4c47-915e-7412dc7cc614",
   "metadata": {},
   "source": [
    "##### <b>Note:</b>\n",
    " - Proceeding to pivot the Series into their own columns to use as Features with the rest of the analysis for Project #1"
   ]
  },
  {
   "cell_type": "markdown",
   "id": "85fa3bdf-a024-48f5-bcb1-d0c047201719",
   "metadata": {},
   "source": [
    "######"
   ]
  },
  {
   "cell_type": "markdown",
   "id": "842b13e5-caa4-40de-932d-124cb8a8b1a4",
   "metadata": {},
   "source": [
    "##### <b>Pivot the Series Column:</b>"
   ]
  },
  {
   "cell_type": "code",
   "execution_count": 315,
   "id": "070ce9a8-70e6-47dc-99bc-e616cd96a695",
   "metadata": {},
   "outputs": [
    {
     "name": "stdout",
     "output_type": "stream",
     "text": [
      "                   Series Name Country Name Country Code Values Years\n",
      "424  Mine area cleared (sq.km)  Afghanistan          AFG   51.5  2009\n",
      "425  Mine area cleared (sq.km)      Albania          ALB    0.1  2009\n"
     ]
    }
   ],
   "source": [
    "# Drop columns no longer needed before using them as part of the index in the pivot\n",
    "data_df = df_wo_null.drop(columns=['YearColumn', 'Series Code', 'Data Source Code', 'Data Source Name'])\n",
    "data_df = data_df.rename(columns={\"value\": \"Values\"})\n",
    "\n",
    "head = dfhead(data_df)\n",
    "print(head)"
   ]
  },
  {
   "cell_type": "code",
   "execution_count": 316,
   "id": "ce27f75c-5420-4b19-bed6-bc7bec515506",
   "metadata": {},
   "outputs": [
    {
     "name": "stdout",
     "output_type": "stream",
     "text": [
      "Index(['Series Name', 'Country Name', 'Country Code', 'Values', 'Years'], dtype='object')\n"
     ]
    }
   ],
   "source": [
    "# Returning column names for easy copy paste\n",
    "cols = dfcols(data_df)\n",
    "print(cols)"
   ]
  },
  {
   "cell_type": "code",
   "execution_count": 317,
   "id": "d1703a91-5099-493a-ad1e-c84a454abce3",
   "metadata": {},
   "outputs": [
    {
     "name": "stdout",
     "output_type": "stream",
     "text": [
      "Series Name                     Anti-vehicle mines destroyed  \\\n",
      "Country Name Country Code Years                                \n",
      "Afghanistan  AFG          2009                           NaN   \n",
      "                          2010                           NaN   \n",
      "\n",
      "Series Name                     Casualties, Total Mine area cleared (sq.km)  \\\n",
      "Country Name Country Code Years                                               \n",
      "Afghanistan  AFG          2009                NaN                      51.5   \n",
      "                          2010                NaN                     64.76   \n",
      "\n",
      "Series Name                     Non Anti-vehicle mines destroyed  \n",
      "Country Name Country Code Years                                   \n",
      "Afghanistan  AFG          2009                               NaN  \n",
      "                          2010                               NaN  \n"
     ]
    }
   ],
   "source": [
    "data_df = data_df.pivot(index=['Country Name', 'Country Code', 'Years'], columns='Series Name', values='Values')\n",
    "head = dfhead(data_df)\n",
    "print(head)"
   ]
  },
  {
   "cell_type": "code",
   "execution_count": 318,
   "id": "50461fce-23a4-48d0-853b-1f8b3ebc0cfa",
   "metadata": {},
   "outputs": [
    {
     "name": "stdout",
     "output_type": "stream",
     "text": [
      "Series Name                     Anti-vehicle mines destroyed  \\\n",
      "Country Name Country Code Years                                \n",
      "Afghanistan  AFG          2009                             0   \n",
      "                          2010                             0   \n",
      "\n",
      "Series Name                     Casualties, Total Mine area cleared (sq.km)  \\\n",
      "Country Name Country Code Years                                               \n",
      "Afghanistan  AFG          2009                  0                      51.5   \n",
      "                          2010                  0                     64.76   \n",
      "\n",
      "Series Name                     Non Anti-vehicle mines destroyed  \n",
      "Country Name Country Code Years                                   \n",
      "Afghanistan  AFG          2009                                 0  \n",
      "                          2010                                 0  \n"
     ]
    }
   ],
   "source": [
    "# These NaN are for valid Series and Years, so I wll fill NaN with 0 to be more visually useful to work with\n",
    "data_df = data_df.fillna(0)\n",
    "head = dfhead(data_df)\n",
    "print(head)"
   ]
  },
  {
   "cell_type": "code",
   "execution_count": 319,
   "id": "486a1069-4829-461b-8662-d55ad03ca566",
   "metadata": {},
   "outputs": [
    {
     "data": {
      "text/plain": [
       "Series Name\n",
       "Anti-vehicle mines destroyed        object\n",
       "Casualties, Total                   object\n",
       "Mine area cleared (sq.km)           object\n",
       "Non Anti-vehicle mines destroyed    object\n",
       "dtype: object"
      ]
     },
     "execution_count": 319,
     "metadata": {},
     "output_type": "execute_result"
    }
   ],
   "source": [
    "# Ran into an issue getting to the plotting in the next section, will convert these types from Object to Integer\n",
    "data_df.dtypes"
   ]
  },
  {
   "cell_type": "code",
   "execution_count": 320,
   "id": "edecef54-c92a-4860-bc7f-a4189a1d42b9",
   "metadata": {},
   "outputs": [],
   "source": [
    "# Converting my Features from Objects to Integers\n",
    "data_df['Anti-vehicle mines destroyed'] = data_df['Anti-vehicle mines destroyed'].astype('str').astype('Int64')\n",
    "data_df['Casualties, Total'] = data_df['Casualties, Total'].astype('str').astype('Int64')\n",
    "data_df['Mine area cleared (sq.km)'] = data_df['Mine area cleared (sq.km)'].astype('str').astype(float)\n",
    "data_df['Non Anti-vehicle mines destroyed'] = data_df['Non Anti-vehicle mines destroyed'].astype('str').astype('Int64')"
   ]
  },
  {
   "cell_type": "code",
   "execution_count": 321,
   "id": "8aeb640d-65ac-49dd-9662-2423938376a2",
   "metadata": {},
   "outputs": [
    {
     "data": {
      "text/plain": [
       "Series Name\n",
       "Anti-vehicle mines destroyed          Int64\n",
       "Casualties, Total                     Int64\n",
       "Mine area cleared (sq.km)           float64\n",
       "Non Anti-vehicle mines destroyed      Int64\n",
       "dtype: object"
      ]
     },
     "execution_count": 321,
     "metadata": {},
     "output_type": "execute_result"
    }
   ],
   "source": [
    "# Checking dtypes once more\n",
    "data_df.dtypes"
   ]
  },
  {
   "cell_type": "code",
   "execution_count": 322,
   "id": "d29cdf45-0a8d-404b-b71f-a5f6e6d8bc74",
   "metadata": {},
   "outputs": [
    {
     "name": "stdout",
     "output_type": "stream",
     "text": [
      "Series Name                      Anti-vehicle mines destroyed  \\\n",
      "Country Name Country Code Years                                 \n",
      "Afghanistan  AFG          2009                              0   \n",
      "                          2010                              0   \n",
      "\n",
      "Series Name                      Casualties, Total  Mine area cleared (sq.km)  \\\n",
      "Country Name Country Code Years                                                 \n",
      "Afghanistan  AFG          2009                   0                      51.50   \n",
      "                          2010                   0                      64.76   \n",
      "\n",
      "Series Name                      Non Anti-vehicle mines destroyed  \n",
      "Country Name Country Code Years                                    \n",
      "Afghanistan  AFG          2009                                  0  \n",
      "                          2010                                  0  \n"
     ]
    }
   ],
   "source": [
    "head = dfhead(data_df)\n",
    "print(head)"
   ]
  },
  {
   "cell_type": "markdown",
   "id": "feff8001-571a-4554-bbe5-7d762f5da858",
   "metadata": {},
   "source": [
    "##### "
   ]
  },
  {
   "cell_type": "markdown",
   "id": "a64d29c8-925a-4d59-99aa-b1d460713bee",
   "metadata": {},
   "source": [
    "---"
   ]
  },
  {
   "cell_type": "markdown",
   "id": "ae23a547-9796-4ee7-b066-e7a1e0fe5a9c",
   "metadata": {},
   "source": [
    "##### "
   ]
  },
  {
   "cell_type": "markdown",
   "id": "6938a926-7824-483c-ae00-56028ce69bd1",
   "metadata": {},
   "source": [
    "### <center><u><font color = \"green\"><b> Data Understanding:</b> <font color = \"black\">Initial Exploratory Analysis - CONTINUED!</u><center>"
   ]
  },
  {
   "cell_type": "code",
   "execution_count": 323,
   "id": "ef89da55-7a9a-4b71-9d3b-9c5e9abd2b6c",
   "metadata": {},
   "outputs": [
    {
     "data": {
      "text/html": [
       "<div>\n",
       "<style scoped>\n",
       "    .dataframe tbody tr th:only-of-type {\n",
       "        vertical-align: middle;\n",
       "    }\n",
       "\n",
       "    .dataframe tbody tr th {\n",
       "        vertical-align: top;\n",
       "    }\n",
       "\n",
       "    .dataframe thead th {\n",
       "        text-align: right;\n",
       "    }\n",
       "</style>\n",
       "<table border=\"1\" class=\"dataframe\">\n",
       "  <thead>\n",
       "    <tr style=\"text-align: right;\">\n",
       "      <th>Series Name</th>\n",
       "      <th>Anti-vehicle mines destroyed</th>\n",
       "      <th>Casualties, Total</th>\n",
       "      <th>Mine area cleared (sq.km)</th>\n",
       "      <th>Non Anti-vehicle mines destroyed</th>\n",
       "    </tr>\n",
       "  </thead>\n",
       "  <tbody>\n",
       "    <tr>\n",
       "      <th>count</th>\n",
       "      <td>153.0</td>\n",
       "      <td>153.0</td>\n",
       "      <td>153.000000</td>\n",
       "      <td>153.0</td>\n",
       "    </tr>\n",
       "    <tr>\n",
       "      <th>mean</th>\n",
       "      <td>252.0</td>\n",
       "      <td>383.751634</td>\n",
       "      <td>14.668965</td>\n",
       "      <td>2550.607843</td>\n",
       "    </tr>\n",
       "    <tr>\n",
       "      <th>std</th>\n",
       "      <td>1336.603664</td>\n",
       "      <td>4217.415702</td>\n",
       "      <td>85.965471</td>\n",
       "      <td>12669.33922</td>\n",
       "    </tr>\n",
       "    <tr>\n",
       "      <th>min</th>\n",
       "      <td>0.0</td>\n",
       "      <td>0.0</td>\n",
       "      <td>0.000000</td>\n",
       "      <td>0.0</td>\n",
       "    </tr>\n",
       "    <tr>\n",
       "      <th>25%</th>\n",
       "      <td>0.0</td>\n",
       "      <td>0.0</td>\n",
       "      <td>0.000000</td>\n",
       "      <td>0.0</td>\n",
       "    </tr>\n",
       "    <tr>\n",
       "      <th>50%</th>\n",
       "      <td>0.0</td>\n",
       "      <td>2.0</td>\n",
       "      <td>0.030000</td>\n",
       "      <td>0.0</td>\n",
       "    </tr>\n",
       "    <tr>\n",
       "      <th>75%</th>\n",
       "      <td>0.0</td>\n",
       "      <td>26.0</td>\n",
       "      <td>1.750000</td>\n",
       "      <td>29.0</td>\n",
       "    </tr>\n",
       "    <tr>\n",
       "      <th>max</th>\n",
       "      <td>11906.0</td>\n",
       "      <td>52190.0</td>\n",
       "      <td>762.900000</td>\n",
       "      <td>138498.0</td>\n",
       "    </tr>\n",
       "  </tbody>\n",
       "</table>\n",
       "</div>"
      ],
      "text/plain": [
       "Series Name  Anti-vehicle mines destroyed  Casualties, Total  \\\n",
       "count                               153.0              153.0   \n",
       "mean                                252.0         383.751634   \n",
       "std                           1336.603664        4217.415702   \n",
       "min                                   0.0                0.0   \n",
       "25%                                   0.0                0.0   \n",
       "50%                                   0.0                2.0   \n",
       "75%                                   0.0               26.0   \n",
       "max                               11906.0            52190.0   \n",
       "\n",
       "Series Name  Mine area cleared (sq.km)  Non Anti-vehicle mines destroyed  \n",
       "count                       153.000000                             153.0  \n",
       "mean                         14.668965                       2550.607843  \n",
       "std                          85.965471                       12669.33922  \n",
       "min                           0.000000                               0.0  \n",
       "25%                           0.000000                               0.0  \n",
       "50%                           0.030000                               0.0  \n",
       "75%                           1.750000                              29.0  \n",
       "max                         762.900000                          138498.0  "
      ]
     },
     "execution_count": 323,
     "metadata": {},
     "output_type": "execute_result"
    }
   ],
   "source": [
    "data_df.describe()"
   ]
  },
  {
   "cell_type": "code",
   "execution_count": 324,
   "id": "54502107-f801-45f9-9566-5969d8b02a8d",
   "metadata": {},
   "outputs": [
    {
     "data": {
      "text/plain": [
       "Series Name\n",
       "Anti-vehicle mines destroyed         7.146787\n",
       "Casualties, Total                   12.355373\n",
       "Mine area cleared (sq.km)            7.663776\n",
       "Non Anti-vehicle mines destroyed     8.717283\n",
       "dtype: Float64"
      ]
     },
     "execution_count": 324,
     "metadata": {},
     "output_type": "execute_result"
    }
   ],
   "source": [
    "data_df.skew()"
   ]
  },
  {
   "cell_type": "code",
   "execution_count": 325,
   "id": "24eab60b-1ff5-475a-a3b0-984f636763d2",
   "metadata": {},
   "outputs": [
    {
     "data": {
      "image/png": "[encoded data removed]",
      "text/plain": [
       "<Figure size 640x480 with 1 Axes>"
      ]
     },
     "metadata": {},
     "output_type": "display_data"
    }
   ],
   "source": [
    "# Mines destroyed have quite a few huge outliers\n",
    "data_df['Anti-vehicle mines destroyed'].hist(bins=40)\n",
    "plt.title('Histogram of Anti-vehicle mines destroyed')\n",
    "plt.xlabel('Value')\n",
    "plt.ylabel('Frequency')\n",
    "plt.show()"
   ]
  },
  {
   "cell_type": "code",
   "execution_count": 326,
   "id": "5c27bd5c-ce1a-4cd2-a60f-a2165a865196",
   "metadata": {},
   "outputs": [
    {
     "data": {
      "image/png": "[encoded data removed]",
      "text/plain": [
       "<Figure size 640x480 with 1 Axes>"
      ]
     },
     "metadata": {},
     "output_type": "display_data"
    }
   ],
   "source": [
    "# Mines destroyed have quite a few huge outliers\n",
    "mines_outlier_check = data_df[data_df['Anti-vehicle mines destroyed'] < 2000] \n",
    "# seeing if the distribution improves with larger values removed\n",
    "mines_outlier_check['Anti-vehicle mines destroyed'].hist(bins=40)\n",
    "plt.title('Histogram of Anti-vehicle mines destroyed - Larger Values Removed')\n",
    "plt.xlabel('Value')\n",
    "plt.ylabel('Frequency')\n",
    "plt.show()"
   ]
  },
  {
   "cell_type": "code",
   "execution_count": 327,
   "id": "721f95b8-0833-415a-a989-59957ee5d1e1",
   "metadata": {},
   "outputs": [
    {
     "data": {
      "image/png": "[encoded data removed]",
      "text/plain": [
       "<Figure size 640x480 with 1 Axes>"
      ]
     },
     "metadata": {},
     "output_type": "display_data"
    }
   ],
   "source": [
    "# Casualties have an interesting high outlier\n",
    "data_df['Casualties, Total'].hist(bins=40)\n",
    "plt.title('Histogram of Casualties, Total')\n",
    "plt.xlabel('Value')\n",
    "plt.ylabel('Frequency')\n",
    "plt.show()"
   ]
  },
  {
   "cell_type": "code",
   "execution_count": 328,
   "id": "efc486b6-ab74-4984-b915-77aadc7cadd0",
   "metadata": {},
   "outputs": [
    {
     "data": {
      "image/png": "[encoded data removed]",
      "text/plain": [
       "<Figure size 640x480 with 1 Axes>"
      ]
     },
     "metadata": {},
     "output_type": "display_data"
    }
   ],
   "source": [
    "cas_outlier_check = data_df[data_df['Casualties, Total'] < 10000] \n",
    "# seeing if the distribution improves with larger values removed\n",
    "cas_outlier_check['Casualties, Total'].hist(bins=40)\n",
    "plt.title('Histogram of Casualties, Total - Larger Values Removed')\n",
    "plt.xlabel('Value')\n",
    "plt.ylabel('Frequency')\n",
    "plt.show()"
   ]
  },
  {
   "cell_type": "code",
   "execution_count": 329,
   "id": "79df7aa6-97d9-4b13-aa35-03df53a37038",
   "metadata": {},
   "outputs": [
    {
     "data": {
      "image/png": "[encoded data removed]",
      "text/plain": [
       "<Figure size 640x480 with 1 Axes>"
      ]
     },
     "metadata": {},
     "output_type": "display_data"
    }
   ],
   "source": [
    "data_df['Mine area cleared (sq.km)'].hist(bins=40)\n",
    "plt.title('Histogram of Mine area cleared (sq.km)')\n",
    "plt.xlabel('Value')\n",
    "plt.ylabel('Frequency')\n",
    "plt.show()"
   ]
  },
  {
   "cell_type": "code",
   "execution_count": 330,
   "id": "bf4c39d9-4419-4d87-adf9-1e98155f65e9",
   "metadata": {},
   "outputs": [
    {
     "data": {
      "image/png": "[encoded data removed]",
      "text/plain": [
       "<Figure size 640x480 with 1 Axes>"
      ]
     },
     "metadata": {},
     "output_type": "display_data"
    }
   ],
   "source": [
    "data_df['Non Anti-vehicle mines destroyed'].hist(bins=40)\n",
    "plt.title('Histogram of Non Anti-vehicle mines destroyed')\n",
    "plt.xlabel('Value')\n",
    "plt.ylabel('Frequency')\n",
    "plt.show()"
   ]
  },
  {
   "cell_type": "code",
   "execution_count": 331,
   "id": "297c5569-3918-4ae8-9432-7a1d83c361b2",
   "metadata": {},
   "outputs": [
    {
     "data": {
      "text/plain": [
       "' I will move forward with my analysis so far without removing self-identified outliers in any of the Features '"
      ]
     },
     "execution_count": 331,
     "metadata": {},
     "output_type": "execute_result"
    }
   ],
   "source": [
    "''' I will move forward with my analysis so far without removing self-identified outliers in any of the Features '''\n",
    "# Researching removal, it states if I have confirmed information on data entry errors, measurement issues, etc.\n",
    "# I can always create new dataframes on the filtered records if I want to investigate further"
   ]
  },
  {
   "cell_type": "markdown",
   "id": "45f58c97-77d9-483e-95f7-5d68f10ab343",
   "metadata": {},
   "source": [
    "##### "
   ]
  },
  {
   "cell_type": "markdown",
   "id": "1ef0944a-ee87-47ec-8106-b5e9e62f8d1e",
   "metadata": {},
   "source": [
    "---"
   ]
  },
  {
   "cell_type": "markdown",
   "id": "602b0c4c-75f4-4a50-a494-8431494dd44d",
   "metadata": {},
   "source": [
    "##### "
   ]
  },
  {
   "cell_type": "markdown",
   "id": "5c96a841-df2b-44ff-b71e-c61c141bb7f8",
   "metadata": {},
   "source": [
    "### <center><u><font color = \"green\"><b> Modeling:</b> <font color = \"black\">Select Algorithms + Train Models <font color = \"red\">Anti-vehicle mines destroyed </u><center>"
   ]
  },
  {
   "cell_type": "code",
   "execution_count": 332,
   "id": "9c6e2fcf-b0de-41b0-ba9f-0fc4ea839e20",
   "metadata": {},
   "outputs": [
    {
     "data": {
      "text/plain": [
       "Series Name\n",
       "Anti-vehicle mines destroyed        0\n",
       "Casualties, Total                   0\n",
       "Mine area cleared (sq.km)           0\n",
       "Non Anti-vehicle mines destroyed    0\n",
       "dtype: int64"
      ]
     },
     "execution_count": 332,
     "metadata": {},
     "output_type": "execute_result"
    }
   ],
   "source": [
    "# Base checking before instantiation\n",
    "data_df.isna().sum()"
   ]
  },
  {
   "cell_type": "code",
   "execution_count": 333,
   "id": "0d0c9487-9bf2-4bf0-9a6d-80d177cac443",
   "metadata": {},
   "outputs": [],
   "source": [
    "# No NaN present, there are Zeros in the dataset, but nulls are gone"
   ]
  },
  {
   "cell_type": "code",
   "execution_count": 334,
   "id": "7ecbe449-fae3-4536-883d-9509e3cebfd0",
   "metadata": {},
   "outputs": [
    {
     "name": "stdout",
     "output_type": "stream",
     "text": [
      "Index(['Anti-vehicle mines destroyed', 'Casualties, Total',\n",
      "       'Mine area cleared (sq.km)', 'Non Anti-vehicle mines destroyed'],\n",
      "      dtype='object', name='Series Name')\n"
     ]
    }
   ],
   "source": [
    "cols = dfcols(data_df)\n",
    "print(cols)"
   ]
  },
  {
   "cell_type": "code",
   "execution_count": 335,
   "id": "0d64530b-a422-42df-82cf-880ebfc0ae1a",
   "metadata": {},
   "outputs": [],
   "source": [
    "# Setting Target (y) and Features (X)\n",
    "y = data_df['Casualties, Total']\n",
    "X = data_df.drop('Casualties, Total', axis=1)"
   ]
  },
  {
   "cell_type": "code",
   "execution_count": 336,
   "id": "9a6df115-d07d-468f-9dc5-f92fe83aee2e",
   "metadata": {},
   "outputs": [],
   "source": [
    "# Train Test Split\n",
    "X_train, X_test, y_train, y_test = train_test_split(X,y)"
   ]
  },
  {
   "cell_type": "code",
   "execution_count": 337,
   "id": "7fd158ed-6711-4199-94bb-9bc571f0c43f",
   "metadata": {},
   "outputs": [
    {
     "data": {
      "text/plain": [
       "((114, 3), (39, 3))"
      ]
     },
     "execution_count": 337,
     "metadata": {},
     "output_type": "execute_result"
    }
   ],
   "source": [
    "# Checking sizes\n",
    "X_train.shape, X_test.shape"
   ]
  },
  {
   "cell_type": "code",
   "execution_count": 338,
   "id": "aa8dc599-b96f-44fc-8ca8-fadb009e89fb",
   "metadata": {},
   "outputs": [],
   "source": [
    "# I dont have a ton of features, and I really want to check one against Casualties\n",
    "# Testing a Simple Linear Regression\n",
    "X_single_train = X_train[['Anti-vehicle mines destroyed']]"
   ]
  },
  {
   "cell_type": "code",
   "execution_count": 339,
   "id": "f27b3102-eeb7-44fd-8e5e-6d57c9802f92",
   "metadata": {},
   "outputs": [
    {
     "data": {
      "text/html": [
       "<style>#sk-container-id-13 {\n",
       "  /* Definition of color scheme common for light and dark mode */\n",
       "  --sklearn-color-text: black;\n",
       "  --sklearn-color-line: gray;\n",
       "  /* Definition of color scheme for unfitted estimators */\n",
       "  --sklearn-color-unfitted-level-0: #fff5e6;\n",
       "  --sklearn-color-unfitted-level-1: #f6e4d2;\n",
       "  --sklearn-color-unfitted-level-2: #ffe0b3;\n",
       "  --sklearn-color-unfitted-level-3: chocolate;\n",
       "  /* Definition of color scheme for fitted estimators */\n",
       "  --sklearn-color-fitted-level-0: #f0f8ff;\n",
       "  --sklearn-color-fitted-level-1: #d4ebff;\n",
       "  --sklearn-color-fitted-level-2: #b3dbfd;\n",
       "  --sklearn-color-fitted-level-3: cornflowerblue;\n",
       "\n",
       "  /* Specific color for light theme */\n",
       "  --sklearn-color-text-on-default-background: var(--sg-text-color, var(--theme-code-foreground, var(--jp-content-font-color1, black)));\n",
       "  --sklearn-color-background: var(--sg-background-color, var(--theme-background, var(--jp-layout-color0, white)));\n",
       "  --sklearn-color-border-box: var(--sg-text-color, var(--theme-code-foreground, var(--jp-content-font-color1, black)));\n",
       "  --sklearn-color-icon: #696969;\n",
       "\n",
       "  @media (prefers-color-scheme: dark) {\n",
       "    /* Redefinition of color scheme for dark theme */\n",
       "    --sklearn-color-text-on-default-background: var(--sg-text-color, var(--theme-code-foreground, var(--jp-content-font-color1, white)));\n",
       "    --sklearn-color-background: var(--sg-background-color, var(--theme-background, var(--jp-layout-color0, #111)));\n",
       "    --sklearn-color-border-box: var(--sg-text-color, var(--theme-code-foreground, var(--jp-content-font-color1, white)));\n",
       "    --sklearn-color-icon: #878787;\n",
       "  }\n",
       "}\n",
       "\n",
       "#sk-container-id-13 {\n",
       "  color: var(--sklearn-color-text);\n",
       "}\n",
       "\n",
       "#sk-container-id-13 pre {\n",
       "  padding: 0;\n",
       "}\n",
       "\n",
       "#sk-container-id-13 input.sk-hidden--visually {\n",
       "  border: 0;\n",
       "  clip: rect(1px 1px 1px 1px);\n",
       "  clip: rect(1px, 1px, 1px, 1px);\n",
       "  height: 1px;\n",
       "  margin: -1px;\n",
       "  overflow: hidden;\n",
       "  padding: 0;\n",
       "  position: absolute;\n",
       "  width: 1px;\n",
       "}\n",
       "\n",
       "#sk-container-id-13 div.sk-dashed-wrapped {\n",
       "  border: 1px dashed var(--sklearn-color-line);\n",
       "  margin: 0 0.4em 0.5em 0.4em;\n",
       "  box-sizing: border-box;\n",
       "  padding-bottom: 0.4em;\n",
       "  background-color: var(--sklearn-color-background);\n",
       "}\n",
       "\n",
       "#sk-container-id-13 div.sk-container {\n",
       "  /* jupyter's `normalize.less` sets `[hidden] { display: none; }`\n",
       "     but bootstrap.min.css set `[hidden] { display: none !important; }`\n",
       "     so we also need the `!important` here to be able to override the\n",
       "     default hidden behavior on the sphinx rendered scikit-learn.org.\n",
       "     See: https://github.com/scikit-learn/scikit-learn/issues/21755 */\n",
       "  display: inline-block !important;\n",
       "  position: relative;\n",
       "}\n",
       "\n",
       "#sk-container-id-13 div.sk-text-repr-fallback {\n",
       "  display: none;\n",
       "}\n",
       "\n",
       "div.sk-parallel-item,\n",
       "div.sk-serial,\n",
       "div.sk-item {\n",
       "  /* draw centered vertical line to link estimators */\n",
       "  background-image: linear-gradient(var(--sklearn-color-text-on-default-background), var(--sklearn-color-text-on-default-background));\n",
       "  background-size: 2px 100%;\n",
       "  background-repeat: no-repeat;\n",
       "  background-position: center center;\n",
       "}\n",
       "\n",
       "/* Parallel-specific style estimator block */\n",
       "\n",
       "#sk-container-id-13 div.sk-parallel-item::after {\n",
       "  content: \"\";\n",
       "  width: 100%;\n",
       "  border-bottom: 2px solid var(--sklearn-color-text-on-default-background);\n",
       "  flex-grow: 1;\n",
       "}\n",
       "\n",
       "#sk-container-id-13 div.sk-parallel {\n",
       "  display: flex;\n",
       "  align-items: stretch;\n",
       "  justify-content: center;\n",
       "  background-color: var(--sklearn-color-background);\n",
       "  position: relative;\n",
       "}\n",
       "\n",
       "#sk-container-id-13 div.sk-parallel-item {\n",
       "  display: flex;\n",
       "  flex-direction: column;\n",
       "}\n",
       "\n",
       "#sk-container-id-13 div.sk-parallel-item:first-child::after {\n",
       "  align-self: flex-end;\n",
       "  width: 50%;\n",
       "}\n",
       "\n",
       "#sk-container-id-13 div.sk-parallel-item:last-child::after {\n",
       "  align-self: flex-start;\n",
       "  width: 50%;\n",
       "}\n",
       "\n",
       "#sk-container-id-13 div.sk-parallel-item:only-child::after {\n",
       "  width: 0;\n",
       "}\n",
       "\n",
       "/* Serial-specific style estimator block */\n",
       "\n",
       "#sk-container-id-13 div.sk-serial {\n",
       "  display: flex;\n",
       "  flex-direction: column;\n",
       "  align-items: center;\n",
       "  background-color: var(--sklearn-color-background);\n",
       "  padding-right: 1em;\n",
       "  padding-left: 1em;\n",
       "}\n",
       "\n",
       "\n",
       "/* Toggleable style: style used for estimator/Pipeline/ColumnTransformer box that is\n",
       "clickable and can be expanded/collapsed.\n",
       "- Pipeline and ColumnTransformer use this feature and define the default style\n",
       "- Estimators will overwrite some part of the style using the `sk-estimator` class\n",
       "*/\n",
       "\n",
       "/* Pipeline and ColumnTransformer style (default) */\n",
       "\n",
       "#sk-container-id-13 div.sk-toggleable {\n",
       "  /* Default theme specific background. It is overwritten whether we have a\n",
       "  specific estimator or a Pipeline/ColumnTransformer */\n",
       "  background-color: var(--sklearn-color-background);\n",
       "}\n",
       "\n",
       "/* Toggleable label */\n",
       "#sk-container-id-13 label.sk-toggleable__label {\n",
       "  cursor: pointer;\n",
       "  display: block;\n",
       "  width: 100%;\n",
       "  margin-bottom: 0;\n",
       "  padding: 0.5em;\n",
       "  box-sizing: border-box;\n",
       "  text-align: center;\n",
       "}\n",
       "\n",
       "#sk-container-id-13 label.sk-toggleable__label-arrow:before {\n",
       "  /* Arrow on the left of the label */\n",
       "  content: \"▸\";\n",
       "  float: left;\n",
       "  margin-right: 0.25em;\n",
       "  color: var(--sklearn-color-icon);\n",
       "}\n",
       "\n",
       "#sk-container-id-13 label.sk-toggleable__label-arrow:hover:before {\n",
       "  color: var(--sklearn-color-text);\n",
       "}\n",
       "\n",
       "/* Toggleable content - dropdown */\n",
       "\n",
       "#sk-container-id-13 div.sk-toggleable__content {\n",
       "  max-height: 0;\n",
       "  max-width: 0;\n",
       "  overflow: hidden;\n",
       "  text-align: left;\n",
       "  /* unfitted */\n",
       "  background-color: var(--sklearn-color-unfitted-level-0);\n",
       "}\n",
       "\n",
       "#sk-container-id-13 div.sk-toggleable__content.fitted {\n",
       "  /* fitted */\n",
       "  background-color: var(--sklearn-color-fitted-level-0);\n",
       "}\n",
       "\n",
       "#sk-container-id-13 div.sk-toggleable__content pre {\n",
       "  margin: 0.2em;\n",
       "  border-radius: 0.25em;\n",
       "  color: var(--sklearn-color-text);\n",
       "  /* unfitted */\n",
       "  background-color: var(--sklearn-color-unfitted-level-0);\n",
       "}\n",
       "\n",
       "#sk-container-id-13 div.sk-toggleable__content.fitted pre {\n",
       "  /* unfitted */\n",
       "  background-color: var(--sklearn-color-fitted-level-0);\n",
       "}\n",
       "\n",
       "#sk-container-id-13 input.sk-toggleable__control:checked~div.sk-toggleable__content {\n",
       "  /* Expand drop-down */\n",
       "  max-height: 200px;\n",
       "  max-width: 100%;\n",
       "  overflow: auto;\n",
       "}\n",
       "\n",
       "#sk-container-id-13 input.sk-toggleable__control:checked~label.sk-toggleable__label-arrow:before {\n",
       "  content: \"▾\";\n",
       "}\n",
       "\n",
       "/* Pipeline/ColumnTransformer-specific style */\n",
       "\n",
       "#sk-container-id-13 div.sk-label input.sk-toggleable__control:checked~label.sk-toggleable__label {\n",
       "  color: var(--sklearn-color-text);\n",
       "  background-color: var(--sklearn-color-unfitted-level-2);\n",
       "}\n",
       "\n",
       "#sk-container-id-13 div.sk-label.fitted input.sk-toggleable__control:checked~label.sk-toggleable__label {\n",
       "  background-color: var(--sklearn-color-fitted-level-2);\n",
       "}\n",
       "\n",
       "/* Estimator-specific style */\n",
       "\n",
       "/* Colorize estimator box */\n",
       "#sk-container-id-13 div.sk-estimator input.sk-toggleable__control:checked~label.sk-toggleable__label {\n",
       "  /* unfitted */\n",
       "  background-color: var(--sklearn-color-unfitted-level-2);\n",
       "}\n",
       "\n",
       "#sk-container-id-13 div.sk-estimator.fitted input.sk-toggleable__control:checked~label.sk-toggleable__label {\n",
       "  /* fitted */\n",
       "  background-color: var(--sklearn-color-fitted-level-2);\n",
       "}\n",
       "\n",
       "#sk-container-id-13 div.sk-label label.sk-toggleable__label,\n",
       "#sk-container-id-13 div.sk-label label {\n",
       "  /* The background is the default theme color */\n",
       "  color: var(--sklearn-color-text-on-default-background);\n",
       "}\n",
       "\n",
       "/* On hover, darken the color of the background */\n",
       "#sk-container-id-13 div.sk-label:hover label.sk-toggleable__label {\n",
       "  color: var(--sklearn-color-text);\n",
       "  background-color: var(--sklearn-color-unfitted-level-2);\n",
       "}\n",
       "\n",
       "/* Label box, darken color on hover, fitted */\n",
       "#sk-container-id-13 div.sk-label.fitted:hover label.sk-toggleable__label.fitted {\n",
       "  color: var(--sklearn-color-text);\n",
       "  background-color: var(--sklearn-color-fitted-level-2);\n",
       "}\n",
       "\n",
       "/* Estimator label */\n",
       "\n",
       "#sk-container-id-13 div.sk-label label {\n",
       "  font-family: monospace;\n",
       "  font-weight: bold;\n",
       "  display: inline-block;\n",
       "  line-height: 1.2em;\n",
       "}\n",
       "\n",
       "#sk-container-id-13 div.sk-label-container {\n",
       "  text-align: center;\n",
       "}\n",
       "\n",
       "/* Estimator-specific */\n",
       "#sk-container-id-13 div.sk-estimator {\n",
       "  font-family: monospace;\n",
       "  border: 1px dotted var(--sklearn-color-border-box);\n",
       "  border-radius: 0.25em;\n",
       "  box-sizing: border-box;\n",
       "  margin-bottom: 0.5em;\n",
       "  /* unfitted */\n",
       "  background-color: var(--sklearn-color-unfitted-level-0);\n",
       "}\n",
       "\n",
       "#sk-container-id-13 div.sk-estimator.fitted {\n",
       "  /* fitted */\n",
       "  background-color: var(--sklearn-color-fitted-level-0);\n",
       "}\n",
       "\n",
       "/* on hover */\n",
       "#sk-container-id-13 div.sk-estimator:hover {\n",
       "  /* unfitted */\n",
       "  background-color: var(--sklearn-color-unfitted-level-2);\n",
       "}\n",
       "\n",
       "#sk-container-id-13 div.sk-estimator.fitted:hover {\n",
       "  /* fitted */\n",
       "  background-color: var(--sklearn-color-fitted-level-2);\n",
       "}\n",
       "\n",
       "/* Specification for estimator info (e.g. \"i\" and \"?\") */\n",
       "\n",
       "/* Common style for \"i\" and \"?\" */\n",
       "\n",
       ".sk-estimator-doc-link,\n",
       "a:link.sk-estimator-doc-link,\n",
       "a:visited.sk-estimator-doc-link {\n",
       "  float: right;\n",
       "  font-size: smaller;\n",
       "  line-height: 1em;\n",
       "  font-family: monospace;\n",
       "  background-color: var(--sklearn-color-background);\n",
       "  border-radius: 1em;\n",
       "  height: 1em;\n",
       "  width: 1em;\n",
       "  text-decoration: none !important;\n",
       "  margin-left: 1ex;\n",
       "  /* unfitted */\n",
       "  border: var(--sklearn-color-unfitted-level-1) 1pt solid;\n",
       "  color: var(--sklearn-color-unfitted-level-1);\n",
       "}\n",
       "\n",
       ".sk-estimator-doc-link.fitted,\n",
       "a:link.sk-estimator-doc-link.fitted,\n",
       "a:visited.sk-estimator-doc-link.fitted {\n",
       "  /* fitted */\n",
       "  border: var(--sklearn-color-fitted-level-1) 1pt solid;\n",
       "  color: var(--sklearn-color-fitted-level-1);\n",
       "}\n",
       "\n",
       "/* On hover */\n",
       "div.sk-estimator:hover .sk-estimator-doc-link:hover,\n",
       ".sk-estimator-doc-link:hover,\n",
       "div.sk-label-container:hover .sk-estimator-doc-link:hover,\n",
       ".sk-estimator-doc-link:hover {\n",
       "  /* unfitted */\n",
       "  background-color: var(--sklearn-color-unfitted-level-3);\n",
       "  color: var(--sklearn-color-background);\n",
       "  text-decoration: none;\n",
       "}\n",
       "\n",
       "div.sk-estimator.fitted:hover .sk-estimator-doc-link.fitted:hover,\n",
       ".sk-estimator-doc-link.fitted:hover,\n",
       "div.sk-label-container:hover .sk-estimator-doc-link.fitted:hover,\n",
       ".sk-estimator-doc-link.fitted:hover {\n",
       "  /* fitted */\n",
       "  background-color: var(--sklearn-color-fitted-level-3);\n",
       "  color: var(--sklearn-color-background);\n",
       "  text-decoration: none;\n",
       "}\n",
       "\n",
       "/* Span, style for the box shown on hovering the info icon */\n",
       ".sk-estimator-doc-link span {\n",
       "  display: none;\n",
       "  z-index: 9999;\n",
       "  position: relative;\n",
       "  font-weight: normal;\n",
       "  right: .2ex;\n",
       "  padding: .5ex;\n",
       "  margin: .5ex;\n",
       "  width: min-content;\n",
       "  min-width: 20ex;\n",
       "  max-width: 50ex;\n",
       "  color: var(--sklearn-color-text);\n",
       "  box-shadow: 2pt 2pt 4pt #999;\n",
       "  /* unfitted */\n",
       "  background: var(--sklearn-color-unfitted-level-0);\n",
       "  border: .5pt solid var(--sklearn-color-unfitted-level-3);\n",
       "}\n",
       "\n",
       ".sk-estimator-doc-link.fitted span {\n",
       "  /* fitted */\n",
       "  background: var(--sklearn-color-fitted-level-0);\n",
       "  border: var(--sklearn-color-fitted-level-3);\n",
       "}\n",
       "\n",
       ".sk-estimator-doc-link:hover span {\n",
       "  display: block;\n",
       "}\n",
       "\n",
       "/* \"?\"-specific style due to the `<a>` HTML tag */\n",
       "\n",
       "#sk-container-id-13 a.estimator_doc_link {\n",
       "  float: right;\n",
       "  font-size: 1rem;\n",
       "  line-height: 1em;\n",
       "  font-family: monospace;\n",
       "  background-color: var(--sklearn-color-background);\n",
       "  border-radius: 1rem;\n",
       "  height: 1rem;\n",
       "  width: 1rem;\n",
       "  text-decoration: none;\n",
       "  /* unfitted */\n",
       "  color: var(--sklearn-color-unfitted-level-1);\n",
       "  border: var(--sklearn-color-unfitted-level-1) 1pt solid;\n",
       "}\n",
       "\n",
       "#sk-container-id-13 a.estimator_doc_link.fitted {\n",
       "  /* fitted */\n",
       "  border: var(--sklearn-color-fitted-level-1) 1pt solid;\n",
       "  color: var(--sklearn-color-fitted-level-1);\n",
       "}\n",
       "\n",
       "/* On hover */\n",
       "#sk-container-id-13 a.estimator_doc_link:hover {\n",
       "  /* unfitted */\n",
       "  background-color: var(--sklearn-color-unfitted-level-3);\n",
       "  color: var(--sklearn-color-background);\n",
       "  text-decoration: none;\n",
       "}\n",
       "\n",
       "#sk-container-id-13 a.estimator_doc_link.fitted:hover {\n",
       "  /* fitted */\n",
       "  background-color: var(--sklearn-color-fitted-level-3);\n",
       "}\n",
       "</style><div id=\"sk-container-id-13\" class=\"sk-top-container\"><div class=\"sk-text-repr-fallback\"><pre>LinearRegression()</pre><b>In a Jupyter environment, please rerun this cell to show the HTML representation or trust the notebook. <br />On GitHub, the HTML representation is unable to render, please try loading this page with nbviewer.org.</b></div><div class=\"sk-container\" hidden><div class=\"sk-item\"><div class=\"sk-estimator fitted sk-toggleable\"><input class=\"sk-toggleable__control sk-hidden--visually\" id=\"sk-estimator-id-13\" type=\"checkbox\" checked><label for=\"sk-estimator-id-13\" class=\"sk-toggleable__label fitted sk-toggleable__label-arrow fitted\">&nbsp;&nbsp;LinearRegression<a class=\"sk-estimator-doc-link fitted\" rel=\"noreferrer\" target=\"_blank\" href=\"https://scikit-learn.org/1.5/modules/generated/sklearn.linear_model.LinearRegression.html\">?<span>Documentation for LinearRegression</span></a><span class=\"sk-estimator-doc-link fitted\">i<span>Fitted</span></span></label><div class=\"sk-toggleable__content fitted\"><pre>LinearRegression()</pre></div> </div></div></div></div>"
      ],
      "text/plain": [
       "LinearRegression()"
      ]
     },
     "execution_count": 339,
     "metadata": {},
     "output_type": "execute_result"
    }
   ],
   "source": [
    "# Instantiate and training a simple linear regression algorithm\n",
    "slr = LinearRegression()\n",
    "slr.fit(X_single_train, y_train)"
   ]
  },
  {
   "cell_type": "markdown",
   "id": "9b76b484-400b-41e4-9d78-01d3f1a5596d",
   "metadata": {},
   "source": [
    "##### <b>Modeling Notes:</b>\n",
    " - Training a Single Linear Regression model off one of my 1st interests/thoughts when I saw this data\n",
    "    - If more mines are cleared/destroyed, do casualties increase?\n",
    " - My depedent variable y, is my target, will be Casualties\n",
    " - My Features are any other variables that casualties could depend on, I am choosing Anti-vehicle mines destroyed, as they sounded more dangerous than non-anti mines, so may be tied to casualties"
   ]
  },
  {
   "cell_type": "markdown",
   "id": "90c3c563-e9bb-4079-aec2-67fb0177cfe3",
   "metadata": {},
   "source": [
    "##### "
   ]
  },
  {
   "cell_type": "markdown",
   "id": "78aa8e44-7409-478c-9c8c-bd48d66096ae",
   "metadata": {},
   "source": [
    "---"
   ]
  },
  {
   "cell_type": "markdown",
   "id": "9f8c4546-2c97-4118-bd9b-c473b38e3664",
   "metadata": {},
   "source": [
    "##### "
   ]
  },
  {
   "cell_type": "markdown",
   "id": "fd747fa6-3ebc-4232-8703-a97539783ba7",
   "metadata": {},
   "source": [
    "### <center><u><font color = \"green\"><b> Evaluation:</b> <font color = \"black\">Choose Metrics + Validate Model <font color = \"red\">Anti-vehicle mines destroyed </u><center>"
   ]
  },
  {
   "cell_type": "code",
   "execution_count": 340,
   "id": "96372ed4-bdd7-489f-86e2-2a3fb0c91dbd",
   "metadata": {},
   "outputs": [
    {
     "name": "stdout",
     "output_type": "stream",
     "text": [
      "The r^2 is -0.025267775778100132 and the RMSE is 8349.399860416688\n"
     ]
    }
   ],
   "source": [
    "# Predict and Score the Single Linear Regression Model\n",
    "X_single_test = X_test[['Anti-vehicle mines destroyed']]\n",
    "slr_predictions = slr.predict(X_single_test)\n",
    "slr_r2 = slr.score(X_single_test, y_test)\n",
    "slr_rmse = root_mean_squared_error(y_test, slr_predictions)\n",
    "print(f'The r^2 is {slr_r2} and the RMSE is {slr_rmse}')\n"
   ]
  },
  {
   "cell_type": "code",
   "execution_count": 341,
   "id": "cf7bcced-14d1-441e-ae63-3da699bb22a8",
   "metadata": {},
   "outputs": [
    {
     "data": {
      "image/png": "[encoded data removed]",
      "text/plain": [
       "<Figure size 640x480 with 1 Axes>"
      ]
     },
     "metadata": {},
     "output_type": "display_data"
    }
   ],
   "source": [
    "plt.scatter(X_single_test, y_test, color = 'blue', label = 'Actual')\n",
    "plt.plot(X_single_test, slr_predictions, color = 'red', label = 'Predicted')\n",
    "plt.xlabel('Anti-vehicle mines destroyed')\n",
    "plt.ylabel('Casualties, Total')\n",
    "plt.legend()\n",
    "plt.show()"
   ]
  },
  {
   "cell_type": "markdown",
   "id": "88bc6fbc-ef95-45fe-9a69-3d88c270ba3c",
   "metadata": {},
   "source": [
    "##### "
   ]
  },
  {
   "cell_type": "markdown",
   "id": "cd7988f9-35e7-4db2-be69-f19424d84346",
   "metadata": {},
   "source": [
    "---"
   ]
  },
  {
   "cell_type": "markdown",
   "id": "75f2dcdf-5c16-486c-bb1a-c5a76c25c5a6",
   "metadata": {},
   "source": [
    "##### "
   ]
  },
  {
   "cell_type": "markdown",
   "id": "75e6338a-ec48-46b2-90f3-089f4bf8508e",
   "metadata": {},
   "source": [
    "### <center><u><font color = \"green\"><b> Modeling:</b> <font color = \"black\">Remove Outliers <font color = \"red\">Anti-vehicle mines destroyed </u><center>"
   ]
  },
  {
   "cell_type": "code",
   "execution_count": 342,
   "id": "7e0a6c76-6364-4eca-a9b5-b02f9bcdb22d",
   "metadata": {},
   "outputs": [],
   "source": [
    "''' Modeling and Evaluation Again with Outliers Removed '''\n",
    "data_wo_outliers = data_df[data_df['Anti-vehicle mines destroyed'] < 10]"
   ]
  },
  {
   "cell_type": "code",
   "execution_count": 343,
   "id": "6685bd82-b027-40ec-ba3b-d5a784aab33a",
   "metadata": {},
   "outputs": [],
   "source": [
    "# Setting Target (y) and Features (X)\n",
    "y = data_wo_outliers['Casualties, Total']\n",
    "X = data_wo_outliers.drop('Casualties, Total', axis=1)"
   ]
  },
  {
   "cell_type": "code",
   "execution_count": 344,
   "id": "d9fd2a56-3124-4477-943b-d8e8828feef5",
   "metadata": {},
   "outputs": [],
   "source": [
    "# Train Test Split\n",
    "X_train, X_test, y_train, y_test = train_test_split(X,y)"
   ]
  },
  {
   "cell_type": "code",
   "execution_count": 345,
   "id": "0c1c10ce-9e7d-497f-a998-5d1d3924b6a5",
   "metadata": {},
   "outputs": [
    {
     "data": {
      "text/plain": [
       "((98, 3), (33, 3))"
      ]
     },
     "execution_count": 345,
     "metadata": {},
     "output_type": "execute_result"
    }
   ],
   "source": [
    "# Checking sizes\n",
    "X_train.shape, X_test.shape"
   ]
  },
  {
   "cell_type": "code",
   "execution_count": 346,
   "id": "6c578344-39b3-410b-90f7-4be5aefba292",
   "metadata": {},
   "outputs": [],
   "source": [
    "X_single_train = X_train[['Anti-vehicle mines destroyed']]"
   ]
  },
  {
   "cell_type": "code",
   "execution_count": 347,
   "id": "5ca55765-242f-42ae-8325-257cea8c2ee2",
   "metadata": {},
   "outputs": [
    {
     "data": {
      "text/html": [
       "<style>#sk-container-id-14 {\n",
       "  /* Definition of color scheme common for light and dark mode */\n",
       "  --sklearn-color-text: black;\n",
       "  --sklearn-color-line: gray;\n",
       "  /* Definition of color scheme for unfitted estimators */\n",
       "  --sklearn-color-unfitted-level-0: #fff5e6;\n",
       "  --sklearn-color-unfitted-level-1: #f6e4d2;\n",
       "  --sklearn-color-unfitted-level-2: #ffe0b3;\n",
       "  --sklearn-color-unfitted-level-3: chocolate;\n",
       "  /* Definition of color scheme for fitted estimators */\n",
       "  --sklearn-color-fitted-level-0: #f0f8ff;\n",
       "  --sklearn-color-fitted-level-1: #d4ebff;\n",
       "  --sklearn-color-fitted-level-2: #b3dbfd;\n",
       "  --sklearn-color-fitted-level-3: cornflowerblue;\n",
       "\n",
       "  /* Specific color for light theme */\n",
       "  --sklearn-color-text-on-default-background: var(--sg-text-color, var(--theme-code-foreground, var(--jp-content-font-color1, black)));\n",
       "  --sklearn-color-background: var(--sg-background-color, var(--theme-background, var(--jp-layout-color0, white)));\n",
       "  --sklearn-color-border-box: var(--sg-text-color, var(--theme-code-foreground, var(--jp-content-font-color1, black)));\n",
       "  --sklearn-color-icon: #696969;\n",
       "\n",
       "  @media (prefers-color-scheme: dark) {\n",
       "    /* Redefinition of color scheme for dark theme */\n",
       "    --sklearn-color-text-on-default-background: var(--sg-text-color, var(--theme-code-foreground, var(--jp-content-font-color1, white)));\n",
       "    --sklearn-color-background: var(--sg-background-color, var(--theme-background, var(--jp-layout-color0, #111)));\n",
       "    --sklearn-color-border-box: var(--sg-text-color, var(--theme-code-foreground, var(--jp-content-font-color1, white)));\n",
       "    --sklearn-color-icon: #878787;\n",
       "  }\n",
       "}\n",
       "\n",
       "#sk-container-id-14 {\n",
       "  color: var(--sklearn-color-text);\n",
       "}\n",
       "\n",
       "#sk-container-id-14 pre {\n",
       "  padding: 0;\n",
       "}\n",
       "\n",
       "#sk-container-id-14 input.sk-hidden--visually {\n",
       "  border: 0;\n",
       "  clip: rect(1px 1px 1px 1px);\n",
       "  clip: rect(1px, 1px, 1px, 1px);\n",
       "  height: 1px;\n",
       "  margin: -1px;\n",
       "  overflow: hidden;\n",
       "  padding: 0;\n",
       "  position: absolute;\n",
       "  width: 1px;\n",
       "}\n",
       "\n",
       "#sk-container-id-14 div.sk-dashed-wrapped {\n",
       "  border: 1px dashed var(--sklearn-color-line);\n",
       "  margin: 0 0.4em 0.5em 0.4em;\n",
       "  box-sizing: border-box;\n",
       "  padding-bottom: 0.4em;\n",
       "  background-color: var(--sklearn-color-background);\n",
       "}\n",
       "\n",
       "#sk-container-id-14 div.sk-container {\n",
       "  /* jupyter's `normalize.less` sets `[hidden] { display: none; }`\n",
       "     but bootstrap.min.css set `[hidden] { display: none !important; }`\n",
       "     so we also need the `!important` here to be able to override the\n",
       "     default hidden behavior on the sphinx rendered scikit-learn.org.\n",
       "     See: https://github.com/scikit-learn/scikit-learn/issues/21755 */\n",
       "  display: inline-block !important;\n",
       "  position: relative;\n",
       "}\n",
       "\n",
       "#sk-container-id-14 div.sk-text-repr-fallback {\n",
       "  display: none;\n",
       "}\n",
       "\n",
       "div.sk-parallel-item,\n",
       "div.sk-serial,\n",
       "div.sk-item {\n",
       "  /* draw centered vertical line to link estimators */\n",
       "  background-image: linear-gradient(var(--sklearn-color-text-on-default-background), var(--sklearn-color-text-on-default-background));\n",
       "  background-size: 2px 100%;\n",
       "  background-repeat: no-repeat;\n",
       "  background-position: center center;\n",
       "}\n",
       "\n",
       "/* Parallel-specific style estimator block */\n",
       "\n",
       "#sk-container-id-14 div.sk-parallel-item::after {\n",
       "  content: \"\";\n",
       "  width: 100%;\n",
       "  border-bottom: 2px solid var(--sklearn-color-text-on-default-background);\n",
       "  flex-grow: 1;\n",
       "}\n",
       "\n",
       "#sk-container-id-14 div.sk-parallel {\n",
       "  display: flex;\n",
       "  align-items: stretch;\n",
       "  justify-content: center;\n",
       "  background-color: var(--sklearn-color-background);\n",
       "  position: relative;\n",
       "}\n",
       "\n",
       "#sk-container-id-14 div.sk-parallel-item {\n",
       "  display: flex;\n",
       "  flex-direction: column;\n",
       "}\n",
       "\n",
       "#sk-container-id-14 div.sk-parallel-item:first-child::after {\n",
       "  align-self: flex-end;\n",
       "  width: 50%;\n",
       "}\n",
       "\n",
       "#sk-container-id-14 div.sk-parallel-item:last-child::after {\n",
       "  align-self: flex-start;\n",
       "  width: 50%;\n",
       "}\n",
       "\n",
       "#sk-container-id-14 div.sk-parallel-item:only-child::after {\n",
       "  width: 0;\n",
       "}\n",
       "\n",
       "/* Serial-specific style estimator block */\n",
       "\n",
       "#sk-container-id-14 div.sk-serial {\n",
       "  display: flex;\n",
       "  flex-direction: column;\n",
       "  align-items: center;\n",
       "  background-color: var(--sklearn-color-background);\n",
       "  padding-right: 1em;\n",
       "  padding-left: 1em;\n",
       "}\n",
       "\n",
       "\n",
       "/* Toggleable style: style used for estimator/Pipeline/ColumnTransformer box that is\n",
       "clickable and can be expanded/collapsed.\n",
       "- Pipeline and ColumnTransformer use this feature and define the default style\n",
       "- Estimators will overwrite some part of the style using the `sk-estimator` class\n",
       "*/\n",
       "\n",
       "/* Pipeline and ColumnTransformer style (default) */\n",
       "\n",
       "#sk-container-id-14 div.sk-toggleable {\n",
       "  /* Default theme specific background. It is overwritten whether we have a\n",
       "  specific estimator or a Pipeline/ColumnTransformer */\n",
       "  background-color: var(--sklearn-color-background);\n",
       "}\n",
       "\n",
       "/* Toggleable label */\n",
       "#sk-container-id-14 label.sk-toggleable__label {\n",
       "  cursor: pointer;\n",
       "  display: block;\n",
       "  width: 100%;\n",
       "  margin-bottom: 0;\n",
       "  padding: 0.5em;\n",
       "  box-sizing: border-box;\n",
       "  text-align: center;\n",
       "}\n",
       "\n",
       "#sk-container-id-14 label.sk-toggleable__label-arrow:before {\n",
       "  /* Arrow on the left of the label */\n",
       "  content: \"▸\";\n",
       "  float: left;\n",
       "  margin-right: 0.25em;\n",
       "  color: var(--sklearn-color-icon);\n",
       "}\n",
       "\n",
       "#sk-container-id-14 label.sk-toggleable__label-arrow:hover:before {\n",
       "  color: var(--sklearn-color-text);\n",
       "}\n",
       "\n",
       "/* Toggleable content - dropdown */\n",
       "\n",
       "#sk-container-id-14 div.sk-toggleable__content {\n",
       "  max-height: 0;\n",
       "  max-width: 0;\n",
       "  overflow: hidden;\n",
       "  text-align: left;\n",
       "  /* unfitted */\n",
       "  background-color: var(--sklearn-color-unfitted-level-0);\n",
       "}\n",
       "\n",
       "#sk-container-id-14 div.sk-toggleable__content.fitted {\n",
       "  /* fitted */\n",
       "  background-color: var(--sklearn-color-fitted-level-0);\n",
       "}\n",
       "\n",
       "#sk-container-id-14 div.sk-toggleable__content pre {\n",
       "  margin: 0.2em;\n",
       "  border-radius: 0.25em;\n",
       "  color: var(--sklearn-color-text);\n",
       "  /* unfitted */\n",
       "  background-color: var(--sklearn-color-unfitted-level-0);\n",
       "}\n",
       "\n",
       "#sk-container-id-14 div.sk-toggleable__content.fitted pre {\n",
       "  /* unfitted */\n",
       "  background-color: var(--sklearn-color-fitted-level-0);\n",
       "}\n",
       "\n",
       "#sk-container-id-14 input.sk-toggleable__control:checked~div.sk-toggleable__content {\n",
       "  /* Expand drop-down */\n",
       "  max-height: 200px;\n",
       "  max-width: 100%;\n",
       "  overflow: auto;\n",
       "}\n",
       "\n",
       "#sk-container-id-14 input.sk-toggleable__control:checked~label.sk-toggleable__label-arrow:before {\n",
       "  content: \"▾\";\n",
       "}\n",
       "\n",
       "/* Pipeline/ColumnTransformer-specific style */\n",
       "\n",
       "#sk-container-id-14 div.sk-label input.sk-toggleable__control:checked~label.sk-toggleable__label {\n",
       "  color: var(--sklearn-color-text);\n",
       "  background-color: var(--sklearn-color-unfitted-level-2);\n",
       "}\n",
       "\n",
       "#sk-container-id-14 div.sk-label.fitted input.sk-toggleable__control:checked~label.sk-toggleable__label {\n",
       "  background-color: var(--sklearn-color-fitted-level-2);\n",
       "}\n",
       "\n",
       "/* Estimator-specific style */\n",
       "\n",
       "/* Colorize estimator box */\n",
       "#sk-container-id-14 div.sk-estimator input.sk-toggleable__control:checked~label.sk-toggleable__label {\n",
       "  /* unfitted */\n",
       "  background-color: var(--sklearn-color-unfitted-level-2);\n",
       "}\n",
       "\n",
       "#sk-container-id-14 div.sk-estimator.fitted input.sk-toggleable__control:checked~label.sk-toggleable__label {\n",
       "  /* fitted */\n",
       "  background-color: var(--sklearn-color-fitted-level-2);\n",
       "}\n",
       "\n",
       "#sk-container-id-14 div.sk-label label.sk-toggleable__label,\n",
       "#sk-container-id-14 div.sk-label label {\n",
       "  /* The background is the default theme color */\n",
       "  color: var(--sklearn-color-text-on-default-background);\n",
       "}\n",
       "\n",
       "/* On hover, darken the color of the background */\n",
       "#sk-container-id-14 div.sk-label:hover label.sk-toggleable__label {\n",
       "  color: var(--sklearn-color-text);\n",
       "  background-color: var(--sklearn-color-unfitted-level-2);\n",
       "}\n",
       "\n",
       "/* Label box, darken color on hover, fitted */\n",
       "#sk-container-id-14 div.sk-label.fitted:hover label.sk-toggleable__label.fitted {\n",
       "  color: var(--sklearn-color-text);\n",
       "  background-color: var(--sklearn-color-fitted-level-2);\n",
       "}\n",
       "\n",
       "/* Estimator label */\n",
       "\n",
       "#sk-container-id-14 div.sk-label label {\n",
       "  font-family: monospace;\n",
       "  font-weight: bold;\n",
       "  display: inline-block;\n",
       "  line-height: 1.2em;\n",
       "}\n",
       "\n",
       "#sk-container-id-14 div.sk-label-container {\n",
       "  text-align: center;\n",
       "}\n",
       "\n",
       "/* Estimator-specific */\n",
       "#sk-container-id-14 div.sk-estimator {\n",
       "  font-family: monospace;\n",
       "  border: 1px dotted var(--sklearn-color-border-box);\n",
       "  border-radius: 0.25em;\n",
       "  box-sizing: border-box;\n",
       "  margin-bottom: 0.5em;\n",
       "  /* unfitted */\n",
       "  background-color: var(--sklearn-color-unfitted-level-0);\n",
       "}\n",
       "\n",
       "#sk-container-id-14 div.sk-estimator.fitted {\n",
       "  /* fitted */\n",
       "  background-color: var(--sklearn-color-fitted-level-0);\n",
       "}\n",
       "\n",
       "/* on hover */\n",
       "#sk-container-id-14 div.sk-estimator:hover {\n",
       "  /* unfitted */\n",
       "  background-color: var(--sklearn-color-unfitted-level-2);\n",
       "}\n",
       "\n",
       "#sk-container-id-14 div.sk-estimator.fitted:hover {\n",
       "  /* fitted */\n",
       "  background-color: var(--sklearn-color-fitted-level-2);\n",
       "}\n",
       "\n",
       "/* Specification for estimator info (e.g. \"i\" and \"?\") */\n",
       "\n",
       "/* Common style for \"i\" and \"?\" */\n",
       "\n",
       ".sk-estimator-doc-link,\n",
       "a:link.sk-estimator-doc-link,\n",
       "a:visited.sk-estimator-doc-link {\n",
       "  float: right;\n",
       "  font-size: smaller;\n",
       "  line-height: 1em;\n",
       "  font-family: monospace;\n",
       "  background-color: var(--sklearn-color-background);\n",
       "  border-radius: 1em;\n",
       "  height: 1em;\n",
       "  width: 1em;\n",
       "  text-decoration: none !important;\n",
       "  margin-left: 1ex;\n",
       "  /* unfitted */\n",
       "  border: var(--sklearn-color-unfitted-level-1) 1pt solid;\n",
       "  color: var(--sklearn-color-unfitted-level-1);\n",
       "}\n",
       "\n",
       ".sk-estimator-doc-link.fitted,\n",
       "a:link.sk-estimator-doc-link.fitted,\n",
       "a:visited.sk-estimator-doc-link.fitted {\n",
       "  /* fitted */\n",
       "  border: var(--sklearn-color-fitted-level-1) 1pt solid;\n",
       "  color: var(--sklearn-color-fitted-level-1);\n",
       "}\n",
       "\n",
       "/* On hover */\n",
       "div.sk-estimator:hover .sk-estimator-doc-link:hover,\n",
       ".sk-estimator-doc-link:hover,\n",
       "div.sk-label-container:hover .sk-estimator-doc-link:hover,\n",
       ".sk-estimator-doc-link:hover {\n",
       "  /* unfitted */\n",
       "  background-color: var(--sklearn-color-unfitted-level-3);\n",
       "  color: var(--sklearn-color-background);\n",
       "  text-decoration: none;\n",
       "}\n",
       "\n",
       "div.sk-estimator.fitted:hover .sk-estimator-doc-link.fitted:hover,\n",
       ".sk-estimator-doc-link.fitted:hover,\n",
       "div.sk-label-container:hover .sk-estimator-doc-link.fitted:hover,\n",
       ".sk-estimator-doc-link.fitted:hover {\n",
       "  /* fitted */\n",
       "  background-color: var(--sklearn-color-fitted-level-3);\n",
       "  color: var(--sklearn-color-background);\n",
       "  text-decoration: none;\n",
       "}\n",
       "\n",
       "/* Span, style for the box shown on hovering the info icon */\n",
       ".sk-estimator-doc-link span {\n",
       "  display: none;\n",
       "  z-index: 9999;\n",
       "  position: relative;\n",
       "  font-weight: normal;\n",
       "  right: .2ex;\n",
       "  padding: .5ex;\n",
       "  margin: .5ex;\n",
       "  width: min-content;\n",
       "  min-width: 20ex;\n",
       "  max-width: 50ex;\n",
       "  color: var(--sklearn-color-text);\n",
       "  box-shadow: 2pt 2pt 4pt #999;\n",
       "  /* unfitted */\n",
       "  background: var(--sklearn-color-unfitted-level-0);\n",
       "  border: .5pt solid var(--sklearn-color-unfitted-level-3);\n",
       "}\n",
       "\n",
       ".sk-estimator-doc-link.fitted span {\n",
       "  /* fitted */\n",
       "  background: var(--sklearn-color-fitted-level-0);\n",
       "  border: var(--sklearn-color-fitted-level-3);\n",
       "}\n",
       "\n",
       ".sk-estimator-doc-link:hover span {\n",
       "  display: block;\n",
       "}\n",
       "\n",
       "/* \"?\"-specific style due to the `<a>` HTML tag */\n",
       "\n",
       "#sk-container-id-14 a.estimator_doc_link {\n",
       "  float: right;\n",
       "  font-size: 1rem;\n",
       "  line-height: 1em;\n",
       "  font-family: monospace;\n",
       "  background-color: var(--sklearn-color-background);\n",
       "  border-radius: 1rem;\n",
       "  height: 1rem;\n",
       "  width: 1rem;\n",
       "  text-decoration: none;\n",
       "  /* unfitted */\n",
       "  color: var(--sklearn-color-unfitted-level-1);\n",
       "  border: var(--sklearn-color-unfitted-level-1) 1pt solid;\n",
       "}\n",
       "\n",
       "#sk-container-id-14 a.estimator_doc_link.fitted {\n",
       "  /* fitted */\n",
       "  border: var(--sklearn-color-fitted-level-1) 1pt solid;\n",
       "  color: var(--sklearn-color-fitted-level-1);\n",
       "}\n",
       "\n",
       "/* On hover */\n",
       "#sk-container-id-14 a.estimator_doc_link:hover {\n",
       "  /* unfitted */\n",
       "  background-color: var(--sklearn-color-unfitted-level-3);\n",
       "  color: var(--sklearn-color-background);\n",
       "  text-decoration: none;\n",
       "}\n",
       "\n",
       "#sk-container-id-14 a.estimator_doc_link.fitted:hover {\n",
       "  /* fitted */\n",
       "  background-color: var(--sklearn-color-fitted-level-3);\n",
       "}\n",
       "</style><div id=\"sk-container-id-14\" class=\"sk-top-container\"><div class=\"sk-text-repr-fallback\"><pre>LinearRegression()</pre><b>In a Jupyter environment, please rerun this cell to show the HTML representation or trust the notebook. <br />On GitHub, the HTML representation is unable to render, please try loading this page with nbviewer.org.</b></div><div class=\"sk-container\" hidden><div class=\"sk-item\"><div class=\"sk-estimator fitted sk-toggleable\"><input class=\"sk-toggleable__control sk-hidden--visually\" id=\"sk-estimator-id-14\" type=\"checkbox\" checked><label for=\"sk-estimator-id-14\" class=\"sk-toggleable__label fitted sk-toggleable__label-arrow fitted\">&nbsp;&nbsp;LinearRegression<a class=\"sk-estimator-doc-link fitted\" rel=\"noreferrer\" target=\"_blank\" href=\"https://scikit-learn.org/1.5/modules/generated/sklearn.linear_model.LinearRegression.html\">?<span>Documentation for LinearRegression</span></a><span class=\"sk-estimator-doc-link fitted\">i<span>Fitted</span></span></label><div class=\"sk-toggleable__content fitted\"><pre>LinearRegression()</pre></div> </div></div></div></div>"
      ],
      "text/plain": [
       "LinearRegression()"
      ]
     },
     "execution_count": 347,
     "metadata": {},
     "output_type": "execute_result"
    }
   ],
   "source": [
    "# Instantiate and training a simple linear regression algorithm\n",
    "slr = LinearRegression()\n",
    "slr.fit(X_single_train, y_train)"
   ]
  },
  {
   "cell_type": "markdown",
   "id": "aefbe86f-d272-4bec-9cd4-1491853bd60c",
   "metadata": {},
   "source": [
    "##### "
   ]
  },
  {
   "cell_type": "markdown",
   "id": "5ca2aaa2-f235-45c3-af05-580d6437dad0",
   "metadata": {},
   "source": [
    "---"
   ]
  },
  {
   "cell_type": "markdown",
   "id": "8361712f-87b0-4603-bf85-41afad99e6b6",
   "metadata": {},
   "source": [
    "##### "
   ]
  },
  {
   "cell_type": "markdown",
   "id": "50c8374a-824a-419c-9007-4fcf48b26f6a",
   "metadata": {},
   "source": [
    "### <center><u><font color = \"green\"><b> Evaluation:</b> <font color = \"black\">Remove Outliers <font color = \"red\">Anti-vehicle mines destroyed </u><center>"
   ]
  },
  {
   "cell_type": "code",
   "execution_count": 348,
   "id": "383826ad-9618-4bce-85d9-9766eaca5e53",
   "metadata": {},
   "outputs": [
    {
     "name": "stdout",
     "output_type": "stream",
     "text": [
      "The r^2 is -0.03124665138189653 and the RMSE is 9079.41524772155\n"
     ]
    }
   ],
   "source": [
    "# Predict and Score the Single Linear Regression Model\n",
    "X_single_test = X_test[['Anti-vehicle mines destroyed']]\n",
    "slr_predictions = slr.predict(X_single_test)\n",
    "slr_r2 = slr.score(X_single_test, y_test)\n",
    "slr_rmse = root_mean_squared_error(y_test, slr_predictions)\n",
    "print(f'The r^2 is {slr_r2} and the RMSE is {slr_rmse}')\n"
   ]
  },
  {
   "cell_type": "code",
   "execution_count": 349,
   "id": "ed3d99d5-4220-4499-a668-ff956fae4bf0",
   "metadata": {},
   "outputs": [
    {
     "data": {
      "image/png": "[encoded data removed]",
      "text/plain": [
       "<Figure size 640x480 with 1 Axes>"
      ]
     },
     "metadata": {},
     "output_type": "display_data"
    }
   ],
   "source": [
    "plt.scatter(X_single_test, y_test, color = 'blue', label = 'Actual')\n",
    "plt.plot(X_single_test, slr_predictions, color = 'red', label = 'Predicted')\n",
    "plt.xlabel('Anti-vehicle mines destroyed - Without Outliers')\n",
    "plt.ylabel('Casualties, Total')\n",
    "plt.legend()\n",
    "plt.show()"
   ]
  },
  {
   "cell_type": "markdown",
   "id": "e9bb5442-0559-4664-9894-4250bcc4ae2a",
   "metadata": {},
   "source": [
    "### <font color = \"red\"><b>Anti-vehicle mines destroyed</b>\n",
    "### <font color = \"green\"><b>Question #1: <font color = \"black\">Could a Country's representatives consider civilian/government casualties to increase the more Anti-Vehicle mines are cleared/destroyed?</b>\n",
    "\n",
    "### <font color = \"green\"><b>Assessment #1:</b>\n",
    " - <b>Summary:</b> Current analysis/model did not perform better than a general guess, r^2 being negative, it was worse than a guess\n",
    " - In my attempt to remove outliers, < 2000 mines destroyed, < 100, < 10, the model r^2 is at least between 0 and abs(1)\n",
    " - However, as expected the dataset chosen may not have appropriate characteristics to be evaluated in this way\n",
    " - r^2 is negative in all cases, which indicates its performing worse than just an average guess\n",
    " - The RMSE initially was ~500 casualties of error for each mine destroyed, and filtering for < 10 mines per Year per Country, increased this to ~9000, not great, and no longer a realistic dataset\n",
    " - Accuracy, recall, precision are Classification Model scoring metrics, they will not be discussed."
   ]
  },
  {
   "cell_type": "markdown",
   "id": "7ba41f2a-0906-4b04-96bd-3fb7668b4cb1",
   "metadata": {},
   "source": [
    "##### "
   ]
  },
  {
   "cell_type": "markdown",
   "id": "82dc12c1-e1d1-444d-a094-c08631d2e61d",
   "metadata": {},
   "source": [
    "---"
   ]
  },
  {
   "cell_type": "markdown",
   "id": "452351ea-8dc0-4c88-83f2-f6caebda4ff5",
   "metadata": {},
   "source": [
    "##### "
   ]
  },
  {
   "cell_type": "markdown",
   "id": "7438ef5e-d60d-4fa2-9c8f-9b9c07604b52",
   "metadata": {},
   "source": [
    "### <center><u><font color = \"green\"><b> Modeling:</b> <font color = \"black\">Select Algorithms + Train Models <font color = \"red\">Non Anti-vehicle mines destroyed </u><center>"
   ]
  },
  {
   "cell_type": "code",
   "execution_count": 350,
   "id": "233726df-d563-4222-b20d-90859ac485d6",
   "metadata": {},
   "outputs": [],
   "source": [
    "# Setting Target (y) and Features (X)\n",
    "y = data_df['Casualties, Total']\n",
    "X = data_df.drop('Casualties, Total', axis=1)"
   ]
  },
  {
   "cell_type": "code",
   "execution_count": 351,
   "id": "1ed67532-c78b-4488-b5c2-e0362e46d87b",
   "metadata": {},
   "outputs": [],
   "source": [
    "# Train Test Split\n",
    "X_train, X_test, y_train, y_test = train_test_split(X,y)"
   ]
  },
  {
   "cell_type": "code",
   "execution_count": 352,
   "id": "a69e50bc-2645-452b-bd68-e256480994b1",
   "metadata": {},
   "outputs": [
    {
     "data": {
      "text/plain": [
       "((114, 3), (39, 3))"
      ]
     },
     "execution_count": 352,
     "metadata": {},
     "output_type": "execute_result"
    }
   ],
   "source": [
    "# Checking sizes\n",
    "X_train.shape, X_test.shape"
   ]
  },
  {
   "cell_type": "code",
   "execution_count": 353,
   "id": "f26540d0-e5cb-4336-9ce4-67cb62501029",
   "metadata": {},
   "outputs": [],
   "source": [
    "X_single_train = X_train[['Non Anti-vehicle mines destroyed']]"
   ]
  },
  {
   "cell_type": "code",
   "execution_count": 354,
   "id": "7258bc6e-da94-4eaa-9a85-b0158998ef9e",
   "metadata": {},
   "outputs": [
    {
     "data": {
      "text/html": [
       "<style>#sk-container-id-15 {\n",
       "  /* Definition of color scheme common for light and dark mode */\n",
       "  --sklearn-color-text: black;\n",
       "  --sklearn-color-line: gray;\n",
       "  /* Definition of color scheme for unfitted estimators */\n",
       "  --sklearn-color-unfitted-level-0: #fff5e6;\n",
       "  --sklearn-color-unfitted-level-1: #f6e4d2;\n",
       "  --sklearn-color-unfitted-level-2: #ffe0b3;\n",
       "  --sklearn-color-unfitted-level-3: chocolate;\n",
       "  /* Definition of color scheme for fitted estimators */\n",
       "  --sklearn-color-fitted-level-0: #f0f8ff;\n",
       "  --sklearn-color-fitted-level-1: #d4ebff;\n",
       "  --sklearn-color-fitted-level-2: #b3dbfd;\n",
       "  --sklearn-color-fitted-level-3: cornflowerblue;\n",
       "\n",
       "  /* Specific color for light theme */\n",
       "  --sklearn-color-text-on-default-background: var(--sg-text-color, var(--theme-code-foreground, var(--jp-content-font-color1, black)));\n",
       "  --sklearn-color-background: var(--sg-background-color, var(--theme-background, var(--jp-layout-color0, white)));\n",
       "  --sklearn-color-border-box: var(--sg-text-color, var(--theme-code-foreground, var(--jp-content-font-color1, black)));\n",
       "  --sklearn-color-icon: #696969;\n",
       "\n",
       "  @media (prefers-color-scheme: dark) {\n",
       "    /* Redefinition of color scheme for dark theme */\n",
       "    --sklearn-color-text-on-default-background: var(--sg-text-color, var(--theme-code-foreground, var(--jp-content-font-color1, white)));\n",
       "    --sklearn-color-background: var(--sg-background-color, var(--theme-background, var(--jp-layout-color0, #111)));\n",
       "    --sklearn-color-border-box: var(--sg-text-color, var(--theme-code-foreground, var(--jp-content-font-color1, white)));\n",
       "    --sklearn-color-icon: #878787;\n",
       "  }\n",
       "}\n",
       "\n",
       "#sk-container-id-15 {\n",
       "  color: var(--sklearn-color-text);\n",
       "}\n",
       "\n",
       "#sk-container-id-15 pre {\n",
       "  padding: 0;\n",
       "}\n",
       "\n",
       "#sk-container-id-15 input.sk-hidden--visually {\n",
       "  border: 0;\n",
       "  clip: rect(1px 1px 1px 1px);\n",
       "  clip: rect(1px, 1px, 1px, 1px);\n",
       "  height: 1px;\n",
       "  margin: -1px;\n",
       "  overflow: hidden;\n",
       "  padding: 0;\n",
       "  position: absolute;\n",
       "  width: 1px;\n",
       "}\n",
       "\n",
       "#sk-container-id-15 div.sk-dashed-wrapped {\n",
       "  border: 1px dashed var(--sklearn-color-line);\n",
       "  margin: 0 0.4em 0.5em 0.4em;\n",
       "  box-sizing: border-box;\n",
       "  padding-bottom: 0.4em;\n",
       "  background-color: var(--sklearn-color-background);\n",
       "}\n",
       "\n",
       "#sk-container-id-15 div.sk-container {\n",
       "  /* jupyter's `normalize.less` sets `[hidden] { display: none; }`\n",
       "     but bootstrap.min.css set `[hidden] { display: none !important; }`\n",
       "     so we also need the `!important` here to be able to override the\n",
       "     default hidden behavior on the sphinx rendered scikit-learn.org.\n",
       "     See: https://github.com/scikit-learn/scikit-learn/issues/21755 */\n",
       "  display: inline-block !important;\n",
       "  position: relative;\n",
       "}\n",
       "\n",
       "#sk-container-id-15 div.sk-text-repr-fallback {\n",
       "  display: none;\n",
       "}\n",
       "\n",
       "div.sk-parallel-item,\n",
       "div.sk-serial,\n",
       "div.sk-item {\n",
       "  /* draw centered vertical line to link estimators */\n",
       "  background-image: linear-gradient(var(--sklearn-color-text-on-default-background), var(--sklearn-color-text-on-default-background));\n",
       "  background-size: 2px 100%;\n",
       "  background-repeat: no-repeat;\n",
       "  background-position: center center;\n",
       "}\n",
       "\n",
       "/* Parallel-specific style estimator block */\n",
       "\n",
       "#sk-container-id-15 div.sk-parallel-item::after {\n",
       "  content: \"\";\n",
       "  width: 100%;\n",
       "  border-bottom: 2px solid var(--sklearn-color-text-on-default-background);\n",
       "  flex-grow: 1;\n",
       "}\n",
       "\n",
       "#sk-container-id-15 div.sk-parallel {\n",
       "  display: flex;\n",
       "  align-items: stretch;\n",
       "  justify-content: center;\n",
       "  background-color: var(--sklearn-color-background);\n",
       "  position: relative;\n",
       "}\n",
       "\n",
       "#sk-container-id-15 div.sk-parallel-item {\n",
       "  display: flex;\n",
       "  flex-direction: column;\n",
       "}\n",
       "\n",
       "#sk-container-id-15 div.sk-parallel-item:first-child::after {\n",
       "  align-self: flex-end;\n",
       "  width: 50%;\n",
       "}\n",
       "\n",
       "#sk-container-id-15 div.sk-parallel-item:last-child::after {\n",
       "  align-self: flex-start;\n",
       "  width: 50%;\n",
       "}\n",
       "\n",
       "#sk-container-id-15 div.sk-parallel-item:only-child::after {\n",
       "  width: 0;\n",
       "}\n",
       "\n",
       "/* Serial-specific style estimator block */\n",
       "\n",
       "#sk-container-id-15 div.sk-serial {\n",
       "  display: flex;\n",
       "  flex-direction: column;\n",
       "  align-items: center;\n",
       "  background-color: var(--sklearn-color-background);\n",
       "  padding-right: 1em;\n",
       "  padding-left: 1em;\n",
       "}\n",
       "\n",
       "\n",
       "/* Toggleable style: style used for estimator/Pipeline/ColumnTransformer box that is\n",
       "clickable and can be expanded/collapsed.\n",
       "- Pipeline and ColumnTransformer use this feature and define the default style\n",
       "- Estimators will overwrite some part of the style using the `sk-estimator` class\n",
       "*/\n",
       "\n",
       "/* Pipeline and ColumnTransformer style (default) */\n",
       "\n",
       "#sk-container-id-15 div.sk-toggleable {\n",
       "  /* Default theme specific background. It is overwritten whether we have a\n",
       "  specific estimator or a Pipeline/ColumnTransformer */\n",
       "  background-color: var(--sklearn-color-background);\n",
       "}\n",
       "\n",
       "/* Toggleable label */\n",
       "#sk-container-id-15 label.sk-toggleable__label {\n",
       "  cursor: pointer;\n",
       "  display: block;\n",
       "  width: 100%;\n",
       "  margin-bottom: 0;\n",
       "  padding: 0.5em;\n",
       "  box-sizing: border-box;\n",
       "  text-align: center;\n",
       "}\n",
       "\n",
       "#sk-container-id-15 label.sk-toggleable__label-arrow:before {\n",
       "  /* Arrow on the left of the label */\n",
       "  content: \"▸\";\n",
       "  float: left;\n",
       "  margin-right: 0.25em;\n",
       "  color: var(--sklearn-color-icon);\n",
       "}\n",
       "\n",
       "#sk-container-id-15 label.sk-toggleable__label-arrow:hover:before {\n",
       "  color: var(--sklearn-color-text);\n",
       "}\n",
       "\n",
       "/* Toggleable content - dropdown */\n",
       "\n",
       "#sk-container-id-15 div.sk-toggleable__content {\n",
       "  max-height: 0;\n",
       "  max-width: 0;\n",
       "  overflow: hidden;\n",
       "  text-align: left;\n",
       "  /* unfitted */\n",
       "  background-color: var(--sklearn-color-unfitted-level-0);\n",
       "}\n",
       "\n",
       "#sk-container-id-15 div.sk-toggleable__content.fitted {\n",
       "  /* fitted */\n",
       "  background-color: var(--sklearn-color-fitted-level-0);\n",
       "}\n",
       "\n",
       "#sk-container-id-15 div.sk-toggleable__content pre {\n",
       "  margin: 0.2em;\n",
       "  border-radius: 0.25em;\n",
       "  color: var(--sklearn-color-text);\n",
       "  /* unfitted */\n",
       "  background-color: var(--sklearn-color-unfitted-level-0);\n",
       "}\n",
       "\n",
       "#sk-container-id-15 div.sk-toggleable__content.fitted pre {\n",
       "  /* unfitted */\n",
       "  background-color: var(--sklearn-color-fitted-level-0);\n",
       "}\n",
       "\n",
       "#sk-container-id-15 input.sk-toggleable__control:checked~div.sk-toggleable__content {\n",
       "  /* Expand drop-down */\n",
       "  max-height: 200px;\n",
       "  max-width: 100%;\n",
       "  overflow: auto;\n",
       "}\n",
       "\n",
       "#sk-container-id-15 input.sk-toggleable__control:checked~label.sk-toggleable__label-arrow:before {\n",
       "  content: \"▾\";\n",
       "}\n",
       "\n",
       "/* Pipeline/ColumnTransformer-specific style */\n",
       "\n",
       "#sk-container-id-15 div.sk-label input.sk-toggleable__control:checked~label.sk-toggleable__label {\n",
       "  color: var(--sklearn-color-text);\n",
       "  background-color: var(--sklearn-color-unfitted-level-2);\n",
       "}\n",
       "\n",
       "#sk-container-id-15 div.sk-label.fitted input.sk-toggleable__control:checked~label.sk-toggleable__label {\n",
       "  background-color: var(--sklearn-color-fitted-level-2);\n",
       "}\n",
       "\n",
       "/* Estimator-specific style */\n",
       "\n",
       "/* Colorize estimator box */\n",
       "#sk-container-id-15 div.sk-estimator input.sk-toggleable__control:checked~label.sk-toggleable__label {\n",
       "  /* unfitted */\n",
       "  background-color: var(--sklearn-color-unfitted-level-2);\n",
       "}\n",
       "\n",
       "#sk-container-id-15 div.sk-estimator.fitted input.sk-toggleable__control:checked~label.sk-toggleable__label {\n",
       "  /* fitted */\n",
       "  background-color: var(--sklearn-color-fitted-level-2);\n",
       "}\n",
       "\n",
       "#sk-container-id-15 div.sk-label label.sk-toggleable__label,\n",
       "#sk-container-id-15 div.sk-label label {\n",
       "  /* The background is the default theme color */\n",
       "  color: var(--sklearn-color-text-on-default-background);\n",
       "}\n",
       "\n",
       "/* On hover, darken the color of the background */\n",
       "#sk-container-id-15 div.sk-label:hover label.sk-toggleable__label {\n",
       "  color: var(--sklearn-color-text);\n",
       "  background-color: var(--sklearn-color-unfitted-level-2);\n",
       "}\n",
       "\n",
       "/* Label box, darken color on hover, fitted */\n",
       "#sk-container-id-15 div.sk-label.fitted:hover label.sk-toggleable__label.fitted {\n",
       "  color: var(--sklearn-color-text);\n",
       "  background-color: var(--sklearn-color-fitted-level-2);\n",
       "}\n",
       "\n",
       "/* Estimator label */\n",
       "\n",
       "#sk-container-id-15 div.sk-label label {\n",
       "  font-family: monospace;\n",
       "  font-weight: bold;\n",
       "  display: inline-block;\n",
       "  line-height: 1.2em;\n",
       "}\n",
       "\n",
       "#sk-container-id-15 div.sk-label-container {\n",
       "  text-align: center;\n",
       "}\n",
       "\n",
       "/* Estimator-specific */\n",
       "#sk-container-id-15 div.sk-estimator {\n",
       "  font-family: monospace;\n",
       "  border: 1px dotted var(--sklearn-color-border-box);\n",
       "  border-radius: 0.25em;\n",
       "  box-sizing: border-box;\n",
       "  margin-bottom: 0.5em;\n",
       "  /* unfitted */\n",
       "  background-color: var(--sklearn-color-unfitted-level-0);\n",
       "}\n",
       "\n",
       "#sk-container-id-15 div.sk-estimator.fitted {\n",
       "  /* fitted */\n",
       "  background-color: var(--sklearn-color-fitted-level-0);\n",
       "}\n",
       "\n",
       "/* on hover */\n",
       "#sk-container-id-15 div.sk-estimator:hover {\n",
       "  /* unfitted */\n",
       "  background-color: var(--sklearn-color-unfitted-level-2);\n",
       "}\n",
       "\n",
       "#sk-container-id-15 div.sk-estimator.fitted:hover {\n",
       "  /* fitted */\n",
       "  background-color: var(--sklearn-color-fitted-level-2);\n",
       "}\n",
       "\n",
       "/* Specification for estimator info (e.g. \"i\" and \"?\") */\n",
       "\n",
       "/* Common style for \"i\" and \"?\" */\n",
       "\n",
       ".sk-estimator-doc-link,\n",
       "a:link.sk-estimator-doc-link,\n",
       "a:visited.sk-estimator-doc-link {\n",
       "  float: right;\n",
       "  font-size: smaller;\n",
       "  line-height: 1em;\n",
       "  font-family: monospace;\n",
       "  background-color: var(--sklearn-color-background);\n",
       "  border-radius: 1em;\n",
       "  height: 1em;\n",
       "  width: 1em;\n",
       "  text-decoration: none !important;\n",
       "  margin-left: 1ex;\n",
       "  /* unfitted */\n",
       "  border: var(--sklearn-color-unfitted-level-1) 1pt solid;\n",
       "  color: var(--sklearn-color-unfitted-level-1);\n",
       "}\n",
       "\n",
       ".sk-estimator-doc-link.fitted,\n",
       "a:link.sk-estimator-doc-link.fitted,\n",
       "a:visited.sk-estimator-doc-link.fitted {\n",
       "  /* fitted */\n",
       "  border: var(--sklearn-color-fitted-level-1) 1pt solid;\n",
       "  color: var(--sklearn-color-fitted-level-1);\n",
       "}\n",
       "\n",
       "/* On hover */\n",
       "div.sk-estimator:hover .sk-estimator-doc-link:hover,\n",
       ".sk-estimator-doc-link:hover,\n",
       "div.sk-label-container:hover .sk-estimator-doc-link:hover,\n",
       ".sk-estimator-doc-link:hover {\n",
       "  /* unfitted */\n",
       "  background-color: var(--sklearn-color-unfitted-level-3);\n",
       "  color: var(--sklearn-color-background);\n",
       "  text-decoration: none;\n",
       "}\n",
       "\n",
       "div.sk-estimator.fitted:hover .sk-estimator-doc-link.fitted:hover,\n",
       ".sk-estimator-doc-link.fitted:hover,\n",
       "div.sk-label-container:hover .sk-estimator-doc-link.fitted:hover,\n",
       ".sk-estimator-doc-link.fitted:hover {\n",
       "  /* fitted */\n",
       "  background-color: var(--sklearn-color-fitted-level-3);\n",
       "  color: var(--sklearn-color-background);\n",
       "  text-decoration: none;\n",
       "}\n",
       "\n",
       "/* Span, style for the box shown on hovering the info icon */\n",
       ".sk-estimator-doc-link span {\n",
       "  display: none;\n",
       "  z-index: 9999;\n",
       "  position: relative;\n",
       "  font-weight: normal;\n",
       "  right: .2ex;\n",
       "  padding: .5ex;\n",
       "  margin: .5ex;\n",
       "  width: min-content;\n",
       "  min-width: 20ex;\n",
       "  max-width: 50ex;\n",
       "  color: var(--sklearn-color-text);\n",
       "  box-shadow: 2pt 2pt 4pt #999;\n",
       "  /* unfitted */\n",
       "  background: var(--sklearn-color-unfitted-level-0);\n",
       "  border: .5pt solid var(--sklearn-color-unfitted-level-3);\n",
       "}\n",
       "\n",
       ".sk-estimator-doc-link.fitted span {\n",
       "  /* fitted */\n",
       "  background: var(--sklearn-color-fitted-level-0);\n",
       "  border: var(--sklearn-color-fitted-level-3);\n",
       "}\n",
       "\n",
       ".sk-estimator-doc-link:hover span {\n",
       "  display: block;\n",
       "}\n",
       "\n",
       "/* \"?\"-specific style due to the `<a>` HTML tag */\n",
       "\n",
       "#sk-container-id-15 a.estimator_doc_link {\n",
       "  float: right;\n",
       "  font-size: 1rem;\n",
       "  line-height: 1em;\n",
       "  font-family: monospace;\n",
       "  background-color: var(--sklearn-color-background);\n",
       "  border-radius: 1rem;\n",
       "  height: 1rem;\n",
       "  width: 1rem;\n",
       "  text-decoration: none;\n",
       "  /* unfitted */\n",
       "  color: var(--sklearn-color-unfitted-level-1);\n",
       "  border: var(--sklearn-color-unfitted-level-1) 1pt solid;\n",
       "}\n",
       "\n",
       "#sk-container-id-15 a.estimator_doc_link.fitted {\n",
       "  /* fitted */\n",
       "  border: var(--sklearn-color-fitted-level-1) 1pt solid;\n",
       "  color: var(--sklearn-color-fitted-level-1);\n",
       "}\n",
       "\n",
       "/* On hover */\n",
       "#sk-container-id-15 a.estimator_doc_link:hover {\n",
       "  /* unfitted */\n",
       "  background-color: var(--sklearn-color-unfitted-level-3);\n",
       "  color: var(--sklearn-color-background);\n",
       "  text-decoration: none;\n",
       "}\n",
       "\n",
       "#sk-container-id-15 a.estimator_doc_link.fitted:hover {\n",
       "  /* fitted */\n",
       "  background-color: var(--sklearn-color-fitted-level-3);\n",
       "}\n",
       "</style><div id=\"sk-container-id-15\" class=\"sk-top-container\"><div class=\"sk-text-repr-fallback\"><pre>LinearRegression()</pre><b>In a Jupyter environment, please rerun this cell to show the HTML representation or trust the notebook. <br />On GitHub, the HTML representation is unable to render, please try loading this page with nbviewer.org.</b></div><div class=\"sk-container\" hidden><div class=\"sk-item\"><div class=\"sk-estimator fitted sk-toggleable\"><input class=\"sk-toggleable__control sk-hidden--visually\" id=\"sk-estimator-id-15\" type=\"checkbox\" checked><label for=\"sk-estimator-id-15\" class=\"sk-toggleable__label fitted sk-toggleable__label-arrow fitted\">&nbsp;&nbsp;LinearRegression<a class=\"sk-estimator-doc-link fitted\" rel=\"noreferrer\" target=\"_blank\" href=\"https://scikit-learn.org/1.5/modules/generated/sklearn.linear_model.LinearRegression.html\">?<span>Documentation for LinearRegression</span></a><span class=\"sk-estimator-doc-link fitted\">i<span>Fitted</span></span></label><div class=\"sk-toggleable__content fitted\"><pre>LinearRegression()</pre></div> </div></div></div></div>"
      ],
      "text/plain": [
       "LinearRegression()"
      ]
     },
     "execution_count": 354,
     "metadata": {},
     "output_type": "execute_result"
    }
   ],
   "source": [
    "# Instantiate and training a simple linear regression algorithm\n",
    "slr = LinearRegression()\n",
    "slr.fit(X_single_train, y_train)"
   ]
  },
  {
   "cell_type": "markdown",
   "id": "3536b305-4bf4-4316-8d96-eb7557e633ee",
   "metadata": {},
   "source": [
    "##### "
   ]
  },
  {
   "cell_type": "markdown",
   "id": "37dac1af-5562-4dbc-a45e-e59f1c2cf7a2",
   "metadata": {},
   "source": [
    "---"
   ]
  },
  {
   "cell_type": "markdown",
   "id": "b47e8032-7031-47b7-b3ed-8b33c213b95f",
   "metadata": {},
   "source": [
    "##### "
   ]
  },
  {
   "cell_type": "markdown",
   "id": "651b1a21-6beb-47cc-888a-f3df473c3ade",
   "metadata": {},
   "source": [
    "### <center><u><font color = \"green\"><b> Evaluation:</b> <font color = \"black\">Choose Metrics + Validate Model <font color = \"red\">Non Anti-vehicle mines destroyed </u><center>"
   ]
  },
  {
   "cell_type": "code",
   "execution_count": 355,
   "id": "ff9a3835-594a-48f5-a6b1-891bfbdc3596",
   "metadata": {},
   "outputs": [
    {
     "name": "stdout",
     "output_type": "stream",
     "text": [
      "The r^2 is -8.813419493318142 and the RMSE is 479.24434361585674\n"
     ]
    }
   ],
   "source": [
    "# Predict and Score the Single Linear Regression Model\n",
    "X_single_test = X_test[['Non Anti-vehicle mines destroyed']]\n",
    "slr_predictions = slr.predict(X_single_test)\n",
    "slr_r2 = slr.score(X_single_test, y_test)\n",
    "slr_rmse = root_mean_squared_error(y_test, slr_predictions)\n",
    "print(f'The r^2 is {slr_r2} and the RMSE is {slr_rmse}')\n"
   ]
  },
  {
   "cell_type": "code",
   "execution_count": 356,
   "id": "c126f851-81f2-4775-bc21-1ed7abf81781",
   "metadata": {},
   "outputs": [
    {
     "data": {
      "image/png": "[encoded data removed]",
      "text/plain": [
       "<Figure size 640x480 with 1 Axes>"
      ]
     },
     "metadata": {},
     "output_type": "display_data"
    }
   ],
   "source": [
    "plt.scatter(X_single_test, y_test, color = 'blue', label = 'Actual')\n",
    "plt.plot(X_single_test, slr_predictions, color = 'red', label = 'Predicted')\n",
    "plt.xlabel('Non Anti-vehicle mines destroyed')\n",
    "plt.ylabel('Casualties, Total')\n",
    "plt.legend()\n",
    "plt.show()"
   ]
  },
  {
   "cell_type": "code",
   "execution_count": 357,
   "id": "7a0a7e84-2875-4da1-b029-8d1f20800837",
   "metadata": {},
   "outputs": [],
   "source": [
    "# Scoring is still bad for this Feature as well, as it is now. Will try removing outliers too."
   ]
  },
  {
   "cell_type": "markdown",
   "id": "cd1d8acc-2c72-44b1-8d65-69ecbd5736ec",
   "metadata": {},
   "source": [
    "##### "
   ]
  },
  {
   "cell_type": "markdown",
   "id": "d610126d-b6fe-4bb6-959e-1d199fe1b8e2",
   "metadata": {},
   "source": [
    "---"
   ]
  },
  {
   "cell_type": "markdown",
   "id": "3e815526-20cc-49a7-be9a-3343cb077a04",
   "metadata": {},
   "source": [
    "##### "
   ]
  },
  {
   "cell_type": "markdown",
   "id": "855fbe0c-8c9d-4087-a18e-d4a136c33735",
   "metadata": {},
   "source": [
    "### <center><u><font color = \"green\"><b> Modeling:</b> <font color = \"black\">Remove Outliers <font color = \"red\">Non Anti-vehicle mines destroyed </u><center>"
   ]
  },
  {
   "cell_type": "code",
   "execution_count": 358,
   "id": "b398ba33-1521-49cd-8090-2c3f8a6ad23c",
   "metadata": {},
   "outputs": [],
   "source": [
    "''' Modeling and Evaluation Again with Outliers Removed '''\n",
    "data_wo_outliers = data_df[data_df['Non Anti-vehicle mines destroyed'] < 20000]"
   ]
  },
  {
   "cell_type": "code",
   "execution_count": 359,
   "id": "138e9287-7e0b-4da5-9d91-9acea1f60102",
   "metadata": {},
   "outputs": [],
   "source": [
    "# Setting Target (y) and Features (X)\n",
    "y = data_wo_outliers['Casualties, Total']\n",
    "X = data_wo_outliers.drop('Casualties, Total', axis=1)"
   ]
  },
  {
   "cell_type": "code",
   "execution_count": 360,
   "id": "882bf26e-eb81-4ab0-9253-2f255a0ffa62",
   "metadata": {},
   "outputs": [],
   "source": [
    "# Train Test Split\n",
    "X_train, X_test, y_train, y_test = train_test_split(X,y)"
   ]
  },
  {
   "cell_type": "code",
   "execution_count": 361,
   "id": "8cdaa9cf-9210-493f-8331-99ff4ad09400",
   "metadata": {},
   "outputs": [
    {
     "data": {
      "text/plain": [
       "((108, 3), (37, 3))"
      ]
     },
     "execution_count": 361,
     "metadata": {},
     "output_type": "execute_result"
    }
   ],
   "source": [
    "# Checking sizes\n",
    "X_train.shape, X_test.shape"
   ]
  },
  {
   "cell_type": "code",
   "execution_count": 362,
   "id": "47882f82-1253-4054-8f19-1d62b1a58567",
   "metadata": {},
   "outputs": [],
   "source": [
    "X_single_train = X_train[['Non Anti-vehicle mines destroyed']]"
   ]
  },
  {
   "cell_type": "code",
   "execution_count": 363,
   "id": "f65cfe30-80f4-4762-b9f3-ce02fd0008c7",
   "metadata": {},
   "outputs": [
    {
     "data": {
      "text/html": [
       "<style>#sk-container-id-16 {\n",
       "  /* Definition of color scheme common for light and dark mode */\n",
       "  --sklearn-color-text: black;\n",
       "  --sklearn-color-line: gray;\n",
       "  /* Definition of color scheme for unfitted estimators */\n",
       "  --sklearn-color-unfitted-level-0: #fff5e6;\n",
       "  --sklearn-color-unfitted-level-1: #f6e4d2;\n",
       "  --sklearn-color-unfitted-level-2: #ffe0b3;\n",
       "  --sklearn-color-unfitted-level-3: chocolate;\n",
       "  /* Definition of color scheme for fitted estimators */\n",
       "  --sklearn-color-fitted-level-0: #f0f8ff;\n",
       "  --sklearn-color-fitted-level-1: #d4ebff;\n",
       "  --sklearn-color-fitted-level-2: #b3dbfd;\n",
       "  --sklearn-color-fitted-level-3: cornflowerblue;\n",
       "\n",
       "  /* Specific color for light theme */\n",
       "  --sklearn-color-text-on-default-background: var(--sg-text-color, var(--theme-code-foreground, var(--jp-content-font-color1, black)));\n",
       "  --sklearn-color-background: var(--sg-background-color, var(--theme-background, var(--jp-layout-color0, white)));\n",
       "  --sklearn-color-border-box: var(--sg-text-color, var(--theme-code-foreground, var(--jp-content-font-color1, black)));\n",
       "  --sklearn-color-icon: #696969;\n",
       "\n",
       "  @media (prefers-color-scheme: dark) {\n",
       "    /* Redefinition of color scheme for dark theme */\n",
       "    --sklearn-color-text-on-default-background: var(--sg-text-color, var(--theme-code-foreground, var(--jp-content-font-color1, white)));\n",
       "    --sklearn-color-background: var(--sg-background-color, var(--theme-background, var(--jp-layout-color0, #111)));\n",
       "    --sklearn-color-border-box: var(--sg-text-color, var(--theme-code-foreground, var(--jp-content-font-color1, white)));\n",
       "    --sklearn-color-icon: #878787;\n",
       "  }\n",
       "}\n",
       "\n",
       "#sk-container-id-16 {\n",
       "  color: var(--sklearn-color-text);\n",
       "}\n",
       "\n",
       "#sk-container-id-16 pre {\n",
       "  padding: 0;\n",
       "}\n",
       "\n",
       "#sk-container-id-16 input.sk-hidden--visually {\n",
       "  border: 0;\n",
       "  clip: rect(1px 1px 1px 1px);\n",
       "  clip: rect(1px, 1px, 1px, 1px);\n",
       "  height: 1px;\n",
       "  margin: -1px;\n",
       "  overflow: hidden;\n",
       "  padding: 0;\n",
       "  position: absolute;\n",
       "  width: 1px;\n",
       "}\n",
       "\n",
       "#sk-container-id-16 div.sk-dashed-wrapped {\n",
       "  border: 1px dashed var(--sklearn-color-line);\n",
       "  margin: 0 0.4em 0.5em 0.4em;\n",
       "  box-sizing: border-box;\n",
       "  padding-bottom: 0.4em;\n",
       "  background-color: var(--sklearn-color-background);\n",
       "}\n",
       "\n",
       "#sk-container-id-16 div.sk-container {\n",
       "  /* jupyter's `normalize.less` sets `[hidden] { display: none; }`\n",
       "     but bootstrap.min.css set `[hidden] { display: none !important; }`\n",
       "     so we also need the `!important` here to be able to override the\n",
       "     default hidden behavior on the sphinx rendered scikit-learn.org.\n",
       "     See: https://github.com/scikit-learn/scikit-learn/issues/21755 */\n",
       "  display: inline-block !important;\n",
       "  position: relative;\n",
       "}\n",
       "\n",
       "#sk-container-id-16 div.sk-text-repr-fallback {\n",
       "  display: none;\n",
       "}\n",
       "\n",
       "div.sk-parallel-item,\n",
       "div.sk-serial,\n",
       "div.sk-item {\n",
       "  /* draw centered vertical line to link estimators */\n",
       "  background-image: linear-gradient(var(--sklearn-color-text-on-default-background), var(--sklearn-color-text-on-default-background));\n",
       "  background-size: 2px 100%;\n",
       "  background-repeat: no-repeat;\n",
       "  background-position: center center;\n",
       "}\n",
       "\n",
       "/* Parallel-specific style estimator block */\n",
       "\n",
       "#sk-container-id-16 div.sk-parallel-item::after {\n",
       "  content: \"\";\n",
       "  width: 100%;\n",
       "  border-bottom: 2px solid var(--sklearn-color-text-on-default-background);\n",
       "  flex-grow: 1;\n",
       "}\n",
       "\n",
       "#sk-container-id-16 div.sk-parallel {\n",
       "  display: flex;\n",
       "  align-items: stretch;\n",
       "  justify-content: center;\n",
       "  background-color: var(--sklearn-color-background);\n",
       "  position: relative;\n",
       "}\n",
       "\n",
       "#sk-container-id-16 div.sk-parallel-item {\n",
       "  display: flex;\n",
       "  flex-direction: column;\n",
       "}\n",
       "\n",
       "#sk-container-id-16 div.sk-parallel-item:first-child::after {\n",
       "  align-self: flex-end;\n",
       "  width: 50%;\n",
       "}\n",
       "\n",
       "#sk-container-id-16 div.sk-parallel-item:last-child::after {\n",
       "  align-self: flex-start;\n",
       "  width: 50%;\n",
       "}\n",
       "\n",
       "#sk-container-id-16 div.sk-parallel-item:only-child::after {\n",
       "  width: 0;\n",
       "}\n",
       "\n",
       "/* Serial-specific style estimator block */\n",
       "\n",
       "#sk-container-id-16 div.sk-serial {\n",
       "  display: flex;\n",
       "  flex-direction: column;\n",
       "  align-items: center;\n",
       "  background-color: var(--sklearn-color-background);\n",
       "  padding-right: 1em;\n",
       "  padding-left: 1em;\n",
       "}\n",
       "\n",
       "\n",
       "/* Toggleable style: style used for estimator/Pipeline/ColumnTransformer box that is\n",
       "clickable and can be expanded/collapsed.\n",
       "- Pipeline and ColumnTransformer use this feature and define the default style\n",
       "- Estimators will overwrite some part of the style using the `sk-estimator` class\n",
       "*/\n",
       "\n",
       "/* Pipeline and ColumnTransformer style (default) */\n",
       "\n",
       "#sk-container-id-16 div.sk-toggleable {\n",
       "  /* Default theme specific background. It is overwritten whether we have a\n",
       "  specific estimator or a Pipeline/ColumnTransformer */\n",
       "  background-color: var(--sklearn-color-background);\n",
       "}\n",
       "\n",
       "/* Toggleable label */\n",
       "#sk-container-id-16 label.sk-toggleable__label {\n",
       "  cursor: pointer;\n",
       "  display: block;\n",
       "  width: 100%;\n",
       "  margin-bottom: 0;\n",
       "  padding: 0.5em;\n",
       "  box-sizing: border-box;\n",
       "  text-align: center;\n",
       "}\n",
       "\n",
       "#sk-container-id-16 label.sk-toggleable__label-arrow:before {\n",
       "  /* Arrow on the left of the label */\n",
       "  content: \"▸\";\n",
       "  float: left;\n",
       "  margin-right: 0.25em;\n",
       "  color: var(--sklearn-color-icon);\n",
       "}\n",
       "\n",
       "#sk-container-id-16 label.sk-toggleable__label-arrow:hover:before {\n",
       "  color: var(--sklearn-color-text);\n",
       "}\n",
       "\n",
       "/* Toggleable content - dropdown */\n",
       "\n",
       "#sk-container-id-16 div.sk-toggleable__content {\n",
       "  max-height: 0;\n",
       "  max-width: 0;\n",
       "  overflow: hidden;\n",
       "  text-align: left;\n",
       "  /* unfitted */\n",
       "  background-color: var(--sklearn-color-unfitted-level-0);\n",
       "}\n",
       "\n",
       "#sk-container-id-16 div.sk-toggleable__content.fitted {\n",
       "  /* fitted */\n",
       "  background-color: var(--sklearn-color-fitted-level-0);\n",
       "}\n",
       "\n",
       "#sk-container-id-16 div.sk-toggleable__content pre {\n",
       "  margin: 0.2em;\n",
       "  border-radius: 0.25em;\n",
       "  color: var(--sklearn-color-text);\n",
       "  /* unfitted */\n",
       "  background-color: var(--sklearn-color-unfitted-level-0);\n",
       "}\n",
       "\n",
       "#sk-container-id-16 div.sk-toggleable__content.fitted pre {\n",
       "  /* unfitted */\n",
       "  background-color: var(--sklearn-color-fitted-level-0);\n",
       "}\n",
       "\n",
       "#sk-container-id-16 input.sk-toggleable__control:checked~div.sk-toggleable__content {\n",
       "  /* Expand drop-down */\n",
       "  max-height: 200px;\n",
       "  max-width: 100%;\n",
       "  overflow: auto;\n",
       "}\n",
       "\n",
       "#sk-container-id-16 input.sk-toggleable__control:checked~label.sk-toggleable__label-arrow:before {\n",
       "  content: \"▾\";\n",
       "}\n",
       "\n",
       "/* Pipeline/ColumnTransformer-specific style */\n",
       "\n",
       "#sk-container-id-16 div.sk-label input.sk-toggleable__control:checked~label.sk-toggleable__label {\n",
       "  color: var(--sklearn-color-text);\n",
       "  background-color: var(--sklearn-color-unfitted-level-2);\n",
       "}\n",
       "\n",
       "#sk-container-id-16 div.sk-label.fitted input.sk-toggleable__control:checked~label.sk-toggleable__label {\n",
       "  background-color: var(--sklearn-color-fitted-level-2);\n",
       "}\n",
       "\n",
       "/* Estimator-specific style */\n",
       "\n",
       "/* Colorize estimator box */\n",
       "#sk-container-id-16 div.sk-estimator input.sk-toggleable__control:checked~label.sk-toggleable__label {\n",
       "  /* unfitted */\n",
       "  background-color: var(--sklearn-color-unfitted-level-2);\n",
       "}\n",
       "\n",
       "#sk-container-id-16 div.sk-estimator.fitted input.sk-toggleable__control:checked~label.sk-toggleable__label {\n",
       "  /* fitted */\n",
       "  background-color: var(--sklearn-color-fitted-level-2);\n",
       "}\n",
       "\n",
       "#sk-container-id-16 div.sk-label label.sk-toggleable__label,\n",
       "#sk-container-id-16 div.sk-label label {\n",
       "  /* The background is the default theme color */\n",
       "  color: var(--sklearn-color-text-on-default-background);\n",
       "}\n",
       "\n",
       "/* On hover, darken the color of the background */\n",
       "#sk-container-id-16 div.sk-label:hover label.sk-toggleable__label {\n",
       "  color: var(--sklearn-color-text);\n",
       "  background-color: var(--sklearn-color-unfitted-level-2);\n",
       "}\n",
       "\n",
       "/* Label box, darken color on hover, fitted */\n",
       "#sk-container-id-16 div.sk-label.fitted:hover label.sk-toggleable__label.fitted {\n",
       "  color: var(--sklearn-color-text);\n",
       "  background-color: var(--sklearn-color-fitted-level-2);\n",
       "}\n",
       "\n",
       "/* Estimator label */\n",
       "\n",
       "#sk-container-id-16 div.sk-label label {\n",
       "  font-family: monospace;\n",
       "  font-weight: bold;\n",
       "  display: inline-block;\n",
       "  line-height: 1.2em;\n",
       "}\n",
       "\n",
       "#sk-container-id-16 div.sk-label-container {\n",
       "  text-align: center;\n",
       "}\n",
       "\n",
       "/* Estimator-specific */\n",
       "#sk-container-id-16 div.sk-estimator {\n",
       "  font-family: monospace;\n",
       "  border: 1px dotted var(--sklearn-color-border-box);\n",
       "  border-radius: 0.25em;\n",
       "  box-sizing: border-box;\n",
       "  margin-bottom: 0.5em;\n",
       "  /* unfitted */\n",
       "  background-color: var(--sklearn-color-unfitted-level-0);\n",
       "}\n",
       "\n",
       "#sk-container-id-16 div.sk-estimator.fitted {\n",
       "  /* fitted */\n",
       "  background-color: var(--sklearn-color-fitted-level-0);\n",
       "}\n",
       "\n",
       "/* on hover */\n",
       "#sk-container-id-16 div.sk-estimator:hover {\n",
       "  /* unfitted */\n",
       "  background-color: var(--sklearn-color-unfitted-level-2);\n",
       "}\n",
       "\n",
       "#sk-container-id-16 div.sk-estimator.fitted:hover {\n",
       "  /* fitted */\n",
       "  background-color: var(--sklearn-color-fitted-level-2);\n",
       "}\n",
       "\n",
       "/* Specification for estimator info (e.g. \"i\" and \"?\") */\n",
       "\n",
       "/* Common style for \"i\" and \"?\" */\n",
       "\n",
       ".sk-estimator-doc-link,\n",
       "a:link.sk-estimator-doc-link,\n",
       "a:visited.sk-estimator-doc-link {\n",
       "  float: right;\n",
       "  font-size: smaller;\n",
       "  line-height: 1em;\n",
       "  font-family: monospace;\n",
       "  background-color: var(--sklearn-color-background);\n",
       "  border-radius: 1em;\n",
       "  height: 1em;\n",
       "  width: 1em;\n",
       "  text-decoration: none !important;\n",
       "  margin-left: 1ex;\n",
       "  /* unfitted */\n",
       "  border: var(--sklearn-color-unfitted-level-1) 1pt solid;\n",
       "  color: var(--sklearn-color-unfitted-level-1);\n",
       "}\n",
       "\n",
       ".sk-estimator-doc-link.fitted,\n",
       "a:link.sk-estimator-doc-link.fitted,\n",
       "a:visited.sk-estimator-doc-link.fitted {\n",
       "  /* fitted */\n",
       "  border: var(--sklearn-color-fitted-level-1) 1pt solid;\n",
       "  color: var(--sklearn-color-fitted-level-1);\n",
       "}\n",
       "\n",
       "/* On hover */\n",
       "div.sk-estimator:hover .sk-estimator-doc-link:hover,\n",
       ".sk-estimator-doc-link:hover,\n",
       "div.sk-label-container:hover .sk-estimator-doc-link:hover,\n",
       ".sk-estimator-doc-link:hover {\n",
       "  /* unfitted */\n",
       "  background-color: var(--sklearn-color-unfitted-level-3);\n",
       "  color: var(--sklearn-color-background);\n",
       "  text-decoration: none;\n",
       "}\n",
       "\n",
       "div.sk-estimator.fitted:hover .sk-estimator-doc-link.fitted:hover,\n",
       ".sk-estimator-doc-link.fitted:hover,\n",
       "div.sk-label-container:hover .sk-estimator-doc-link.fitted:hover,\n",
       ".sk-estimator-doc-link.fitted:hover {\n",
       "  /* fitted */\n",
       "  background-color: var(--sklearn-color-fitted-level-3);\n",
       "  color: var(--sklearn-color-background);\n",
       "  text-decoration: none;\n",
       "}\n",
       "\n",
       "/* Span, style for the box shown on hovering the info icon */\n",
       ".sk-estimator-doc-link span {\n",
       "  display: none;\n",
       "  z-index: 9999;\n",
       "  position: relative;\n",
       "  font-weight: normal;\n",
       "  right: .2ex;\n",
       "  padding: .5ex;\n",
       "  margin: .5ex;\n",
       "  width: min-content;\n",
       "  min-width: 20ex;\n",
       "  max-width: 50ex;\n",
       "  color: var(--sklearn-color-text);\n",
       "  box-shadow: 2pt 2pt 4pt #999;\n",
       "  /* unfitted */\n",
       "  background: var(--sklearn-color-unfitted-level-0);\n",
       "  border: .5pt solid var(--sklearn-color-unfitted-level-3);\n",
       "}\n",
       "\n",
       ".sk-estimator-doc-link.fitted span {\n",
       "  /* fitted */\n",
       "  background: var(--sklearn-color-fitted-level-0);\n",
       "  border: var(--sklearn-color-fitted-level-3);\n",
       "}\n",
       "\n",
       ".sk-estimator-doc-link:hover span {\n",
       "  display: block;\n",
       "}\n",
       "\n",
       "/* \"?\"-specific style due to the `<a>` HTML tag */\n",
       "\n",
       "#sk-container-id-16 a.estimator_doc_link {\n",
       "  float: right;\n",
       "  font-size: 1rem;\n",
       "  line-height: 1em;\n",
       "  font-family: monospace;\n",
       "  background-color: var(--sklearn-color-background);\n",
       "  border-radius: 1rem;\n",
       "  height: 1rem;\n",
       "  width: 1rem;\n",
       "  text-decoration: none;\n",
       "  /* unfitted */\n",
       "  color: var(--sklearn-color-unfitted-level-1);\n",
       "  border: var(--sklearn-color-unfitted-level-1) 1pt solid;\n",
       "}\n",
       "\n",
       "#sk-container-id-16 a.estimator_doc_link.fitted {\n",
       "  /* fitted */\n",
       "  border: var(--sklearn-color-fitted-level-1) 1pt solid;\n",
       "  color: var(--sklearn-color-fitted-level-1);\n",
       "}\n",
       "\n",
       "/* On hover */\n",
       "#sk-container-id-16 a.estimator_doc_link:hover {\n",
       "  /* unfitted */\n",
       "  background-color: var(--sklearn-color-unfitted-level-3);\n",
       "  color: var(--sklearn-color-background);\n",
       "  text-decoration: none;\n",
       "}\n",
       "\n",
       "#sk-container-id-16 a.estimator_doc_link.fitted:hover {\n",
       "  /* fitted */\n",
       "  background-color: var(--sklearn-color-fitted-level-3);\n",
       "}\n",
       "</style><div id=\"sk-container-id-16\" class=\"sk-top-container\"><div class=\"sk-text-repr-fallback\"><pre>LinearRegression()</pre><b>In a Jupyter environment, please rerun this cell to show the HTML representation or trust the notebook. <br />On GitHub, the HTML representation is unable to render, please try loading this page with nbviewer.org.</b></div><div class=\"sk-container\" hidden><div class=\"sk-item\"><div class=\"sk-estimator fitted sk-toggleable\"><input class=\"sk-toggleable__control sk-hidden--visually\" id=\"sk-estimator-id-16\" type=\"checkbox\" checked><label for=\"sk-estimator-id-16\" class=\"sk-toggleable__label fitted sk-toggleable__label-arrow fitted\">&nbsp;&nbsp;LinearRegression<a class=\"sk-estimator-doc-link fitted\" rel=\"noreferrer\" target=\"_blank\" href=\"https://scikit-learn.org/1.5/modules/generated/sklearn.linear_model.LinearRegression.html\">?<span>Documentation for LinearRegression</span></a><span class=\"sk-estimator-doc-link fitted\">i<span>Fitted</span></span></label><div class=\"sk-toggleable__content fitted\"><pre>LinearRegression()</pre></div> </div></div></div></div>"
      ],
      "text/plain": [
       "LinearRegression()"
      ]
     },
     "execution_count": 363,
     "metadata": {},
     "output_type": "execute_result"
    }
   ],
   "source": [
    "# Instantiate and training a simple linear regression algorithm\n",
    "slr = LinearRegression()\n",
    "slr.fit(X_single_train, y_train)"
   ]
  },
  {
   "cell_type": "markdown",
   "id": "694f50af-7304-4ad6-82cb-f1ef2fab2eaa",
   "metadata": {},
   "source": [
    "##### "
   ]
  },
  {
   "cell_type": "markdown",
   "id": "cadf206e-922d-4a77-b759-5bdd94791d32",
   "metadata": {},
   "source": [
    "---"
   ]
  },
  {
   "cell_type": "markdown",
   "id": "78b36082-d16e-41cc-97ac-8b2be50f32ff",
   "metadata": {},
   "source": [
    "##### "
   ]
  },
  {
   "cell_type": "markdown",
   "id": "e8012f54-d0e7-40f6-8244-6406356f6b5a",
   "metadata": {},
   "source": [
    "### <center><u><font color = \"green\"><b> Evaluation:</b> <font color = \"black\">Remove Outliers <font color = \"red\">Non Anti-vehicle mines destroyed </u><center>"
   ]
  },
  {
   "cell_type": "code",
   "execution_count": 364,
   "id": "a694d91a-de1e-456e-a87e-62b62f13ee86",
   "metadata": {},
   "outputs": [
    {
     "name": "stdout",
     "output_type": "stream",
     "text": [
      "The r^2 is -39.456254209358 and the RMSE is 519.1917858094461\n"
     ]
    }
   ],
   "source": [
    "# Predict and Score the Single Linear Regression Model\n",
    "X_single_test = X_test[['Non Anti-vehicle mines destroyed']]\n",
    "slr_predictions = slr.predict(X_single_test)\n",
    "slr_r2 = slr.score(X_single_test, y_test)\n",
    "slr_rmse = root_mean_squared_error(y_test, slr_predictions)\n",
    "print(f'The r^2 is {slr_r2} and the RMSE is {slr_rmse}')\n"
   ]
  },
  {
   "cell_type": "code",
   "execution_count": 365,
   "id": "726788a0-a31b-403b-aa1a-a0d7efbaef28",
   "metadata": {},
   "outputs": [
    {
     "data": {
      "image/png": "[encoded data removed]",
      "text/plain": [
       "<Figure size 640x480 with 1 Axes>"
      ]
     },
     "metadata": {},
     "output_type": "display_data"
    }
   ],
   "source": [
    "plt.scatter(X_single_test, y_test, color = 'blue', label = 'Actual')\n",
    "plt.plot(X_single_test, slr_predictions, color = 'red', label = 'Predicted')\n",
    "plt.xlabel('Non Anti-vehicle mines destroyed - Without Outliers')\n",
    "plt.ylabel('Casualties, Total')\n",
    "plt.legend()\n",
    "plt.show()"
   ]
  },
  {
   "cell_type": "markdown",
   "id": "502a8e1c-742a-46f5-b06b-2165d9d31e5c",
   "metadata": {},
   "source": [
    "### <font color = \"red\"><b>Non Anti-vehicle mines destroyed = New Scenario</b>\n",
    "### <font color = \"green\"><b>Question #2: <font color = \"black\">Could a Country's representatives consider civilian/government casualties to increase the more Non-Anti Vehicle mines are cleared/destroyed?</b>\n",
    "\n",
    "### <font color = \"green\"><b>Assessment #2:</b>\n",
    " - <b>Summary:</b> Same as Non Anti-Vehicle mines, r^2 being negative, it was worse than a general guess\n",
    " - In my attempt to remove outliers, < 60000 mines destroyed, < 20000, the model r^2 is at least between 0 and abs(1)\n",
    " - However, as expected the dataset chosen may not have appropriate characteristics to be evaluated in this way\n",
    " - r^2 is negative in all cases, which indicates its performing worse than just an average guess\n",
    " - The RMSE initially went from ~500 to ~8500, and filtering for < 20000 mines per Year per Country, is not great, and no longer a realistic dataset\n",
    " - Accuracy, recall, precision are Classification Model scoring metrics, they will not be discussed."
   ]
  },
  {
   "cell_type": "markdown",
   "id": "b7b4e4f4-1465-4ed6-bc9f-2175961840ae",
   "metadata": {},
   "source": [
    "### <font color = \"green\"><b>Question #3: <font color = \"black\">This data halted capture in 2012, could a Country's representatives consider large/stockpile of either mine type destroyed to be abnormal scenarios, if they are considering to bring back this program, they could filter out these occurrences to better predict and decrease Total Casualties?</b>\n",
    "\n",
    "### <font color = \"green\"><b>Assessment #3:</b>\n",
    " - <b>Summary:</b> RMSE values increases to very unhealthy levels of variance, R^2 get closer to 0, which isnt a win either\n",
    "\n",
    "<b>Model/Analysis Results:</b>\n",
    " - <b>Data as is:</b>\n",
    "    - <b>Anti-Vehicle vs Casualties:</b> The r^2 is -17.021696353277946 and the RMSE is 478.2491966542283\n",
    "    - <b>Non Anti-Vehicle vs Casualties:</b> The r^2 is -13.174701586504204 and the RMSE is 597.7555073912594\n",
    " - <b>Without Outliers:</b>\n",
    "    - <b>Anti-Vehicle vs Casualties:</b> The r^2 is -0.03128768000504012 and the RMSE is 9079.321924948332\n",
    "    - <b>Non Anti-Vehicle vs Casualties:</b> The r^2 is -0.028207649361975617 and the RMSE is 8575.000295550626\n",
    "\n",
    "<i><b><font color = \"red\">Note:</b> <font color = \"black\">the above numbers may change slightly each time the cells are produced.</i>"
   ]
  },
  {
   "cell_type": "markdown",
   "id": "ee677e9a-f407-43ec-b4b0-4fd506b1656d",
   "metadata": {},
   "source": [
    "# <center><font color = \"green\"><b>Udacity Project 1 Code End: Apologies for the lack of data on Cats! &#128049; </b></center>"
   ]
  },
  {
   "cell_type": "code",
   "execution_count": null,
   "id": "c390c835-ffd4-4050-bdc9-c5d1a86ee698",
   "metadata": {},
   "outputs": [],
   "source": []
  }
 ],
 "metadata": {
  "kernelspec": {
   "display_name": "Python 3 (ipykernel)",
   "language": "python",
   "name": "python3"
  },
  "language_info": {
   "codemirror_mode": {
    "name": "ipython",
    "version": 3
   },
   "file_extension": ".py",
   "mimetype": "text/x-python",
   "name": "python",
   "nbconvert_exporter": "python",
   "pygments_lexer": "ipython3",
   "version": "3.12.3"
  }
 },
 "nbformat": 4,
 "nbformat_minor": 5
}
